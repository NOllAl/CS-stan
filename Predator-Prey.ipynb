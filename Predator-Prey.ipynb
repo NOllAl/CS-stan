{
 "cells": [
  {
   "cell_type": "markdown",
   "metadata": {},
   "source": [
    "# Predator-Prey Population Dynamics: \n",
    "## The Lotka-Volterra model in Stan\n",
    "\n",
    "- Author: Alexander Noll\n",
    "- June 01 2019"
   ]
  },
  {
   "cell_type": "markdown",
   "metadata": {},
   "source": [
    "In this notebook, we extend the [case study [1]](https://mc-stan.org/users/documentation/case-studies/lotka-volterra-predator-prey.html#exercises-and-extensions) on predator-prey population dynamics."
   ]
  },
  {
   "cell_type": "markdown",
   "metadata": {},
   "source": [
    "# Summary\n",
    "\n",
    "We start with a short summary of [1]. We want to model the population dynamics of\n",
    "\n",
    "+ a predator population and \n",
    "+ a prey population.\n",
    "\n",
    "[1] focused on the case where the predators were the Canadian lynx and the prey were snowshoe hare. The data was collected from 1900 to 1920. \n",
    "\n",
    "Intuitively, one can imagine that we observe the following temporal pattern:\n",
    "\n",
    "1. The prey population grows and the predator population is relatively small.\n",
    "2. Having a lot of prey, predators can survive easier. This leads to growth of the predator population and decline in prey population.\n",
    "3. The high number of predators have little prey available and thus the predator population declines. This leads us back to 1.\n",
    "\n",
    "We can formalize this intuition in a pair of coupled, non-linear ordinary differential equations. Let $u(t) \\geq 0$ and $v(t) \\geq 0$ denote the prey- and predator population at time $t$, respectively. Then\n",
    "\n",
    "$$\n",
    "\\frac{du(t)}{dt} = \\alpha u(t) - \\beta u(t)v(t), \\\\\n",
    "\\frac{dv(t)}{dt} = - \\gamma v(t) + \\delta u(t) v(t), \\\\\n",
    "\\alpha, \\beta, \\gamma, \\delta \\geq 0 \\:.\n",
    "$$\n",
    "\n",
    "We can interpret the coefficients as follows:\n",
    "\n",
    "+ $\\alpha$ is the (relative) *growth rate* of the prey population in the absence of predators.\n",
    "+ $\\gamma$ is the (relative) *decline rate* of the predator population in the absence of prey.\n",
    "+ The additional decline in prey population is proportional to the number of predators, with $\\beta$ the constant of proportionality.\n",
    "+ The growth in predator population is proportional to the prey population. $\\delta$ gives the strength.\n",
    "\n",
    "It's [well known](https://en.wikipedia.org/wiki/Lotka–Volterra_equations) that these equations, known as the Lotka-Volterra equations, have *periodic solutions*. "
   ]
  },
  {
   "cell_type": "markdown",
   "metadata": {},
   "source": [
    "## Data summary\n",
    "\n",
    "Next, we will summarize the data, which we assume to be present in the current working directory."
   ]
  },
  {
   "cell_type": "code",
   "execution_count": 1,
   "metadata": {},
   "outputs": [],
   "source": [
    "import arviz as az\n",
    "import matplotlib.pyplot as plt\n",
    "import numpy as np\n",
    "import pandas as pd\n",
    "import scipy.misc\n",
    "import seaborn as sns\n",
    "import pystan\n",
    "import xarray as xr\n",
    "\n",
    "# Set colors\n",
    "sns.set_palette(\"deep\")\n",
    "\n",
    "class Globals(object):\n",
    "    colors = dict(zip(['Lynx', 'Hare'], sns.color_palette(\"deep\", 2)))\n",
    "    \n",
    "def prep_stan_data(df):\n",
    "    \"\"\"Helper function to prepare data to be fed into Stan model.\n",
    "    \n",
    "    Args:\n",
    "      df: dataframe with columns 'Hare' and 'Lynx'.\n",
    "      \n",
    "    Returns:\n",
    "      list of data to feed into Stan model.\n",
    "    \"\"\"\n",
    "    N = df.shape[0]\n",
    "    \n",
    "    return {\n",
    "        'N': N - 1,\n",
    "        'ts': np.arange(1, N),\n",
    "        'y_init': [df.Hare.values[0], data.Lynx.values[0]],\n",
    "        'y': np.array(df.loc[1:, ['Hare', 'Lynx']])\n",
    "    }"
   ]
  },
  {
   "cell_type": "code",
   "execution_count": 2,
   "metadata": {},
   "outputs": [],
   "source": [
    "def plot_phase_space(x, y, alpha=1, color='black'):\n",
    "    if not isinstance(x, (np.ndarray, np.generic)):\n",
    "        x = x.values\n",
    "        y = y.values\n",
    "    \n",
    "    plt.quiver(x[:-1], y[:-1],\n",
    "               x[1:] - x[:-1],\n",
    "               y[1:] - y[:-1],\n",
    "               scale_units='xy', angles='xy', scale=1, alpha=alpha, color=color)"
   ]
  },
  {
   "cell_type": "code",
   "execution_count": 3,
   "metadata": {},
   "outputs": [
    {
     "data": {
      "text/html": [
       "<div>\n",
       "<style scoped>\n",
       "    .dataframe tbody tr th:only-of-type {\n",
       "        vertical-align: middle;\n",
       "    }\n",
       "\n",
       "    .dataframe tbody tr th {\n",
       "        vertical-align: top;\n",
       "    }\n",
       "\n",
       "    .dataframe thead th {\n",
       "        text-align: right;\n",
       "    }\n",
       "</style>\n",
       "<table border=\"1\" class=\"dataframe\">\n",
       "  <thead>\n",
       "    <tr style=\"text-align: right;\">\n",
       "      <th></th>\n",
       "      <th>Year</th>\n",
       "      <th>Lynx</th>\n",
       "      <th>Hare</th>\n",
       "    </tr>\n",
       "  </thead>\n",
       "  <tbody>\n",
       "    <tr>\n",
       "      <th>0</th>\n",
       "      <td>1900</td>\n",
       "      <td>4.0</td>\n",
       "      <td>30.0</td>\n",
       "    </tr>\n",
       "    <tr>\n",
       "      <th>1</th>\n",
       "      <td>1901</td>\n",
       "      <td>6.1</td>\n",
       "      <td>47.2</td>\n",
       "    </tr>\n",
       "    <tr>\n",
       "      <th>2</th>\n",
       "      <td>1902</td>\n",
       "      <td>9.8</td>\n",
       "      <td>70.2</td>\n",
       "    </tr>\n",
       "    <tr>\n",
       "      <th>3</th>\n",
       "      <td>1903</td>\n",
       "      <td>35.2</td>\n",
       "      <td>77.4</td>\n",
       "    </tr>\n",
       "    <tr>\n",
       "      <th>4</th>\n",
       "      <td>1904</td>\n",
       "      <td>59.4</td>\n",
       "      <td>36.3</td>\n",
       "    </tr>\n",
       "  </tbody>\n",
       "</table>\n",
       "</div>"
      ],
      "text/plain": [
       "   Year  Lynx  Hare\n",
       "0  1900   4.0  30.0\n",
       "1  1901   6.1  47.2\n",
       "2  1902   9.8  70.2\n",
       "3  1903  35.2  77.4\n",
       "4  1904  59.4  36.3"
      ]
     },
     "execution_count": 3,
     "metadata": {},
     "output_type": "execute_result"
    }
   ],
   "source": [
    "data = pd.read_csv(\"./data.csv\",\n",
    "                   comment=\"#\")\n",
    "\n",
    "data.rename(columns=lambda x: x.strip(), inplace=True)\n",
    "data.head()"
   ]
  },
  {
   "cell_type": "markdown",
   "metadata": {},
   "source": [
    "The data frame has three columns\n",
    "\n",
    "1. the observation year `Year`\n",
    "2. the `Lynx` population, in thousands, and \n",
    "3. the `Hare` population, also in thousands."
   ]
  },
  {
   "cell_type": "markdown",
   "metadata": {},
   "source": [
    "We visualize the time evolution of the two populations. \n",
    "\n",
    "The plot on the left shows the time evolution in **[phase space](https://en.wikipedia.org/wiki/Phase_space)**. Recall that *phase space* is the space of all possible configurations of the dynamical system under consideration. In our example, phase space can be identified with $\\bf P = \\mathbb R_+ \\times \\mathbb R_+$, since any point $(z_1, z_2) \\in \\bf P$ corresponds to a valid set of population pairs. The arrows in the plot indicate the direction of time (more precisely, we should actually plot the *mean* populations, as these are the quantities we obtain from solving the ODE).\n",
    "\n",
    "We can see that the dynamical systems seems to follow a periodic pattern, which is a well known result for the Lokta-Volterra equations.\n",
    "\n",
    "The plot on the right shows both the Hare and Lynx population as a function of time. In this plot, we see the periodicity as well. Furthermore, we can recognize that the Lynx population peaks after the Hare population, as explained above."
   ]
  },
  {
   "cell_type": "code",
   "execution_count": 4,
   "metadata": {},
   "outputs": [
    {
     "data": {
      "image/png": "[encoded data removed]",
      "text/plain": [
       "<Figure size 864x576 with 2 Axes>"
      ]
     },
     "metadata": {
      "needs_background": "light"
     },
     "output_type": "display_data"
    }
   ],
   "source": [
    "def plot_initial_data(df):\n",
    "    # Bring data in long format\n",
    "    plot_data = pd.melt(\n",
    "        df, \n",
    "        id_vars='Year', \n",
    "        value_vars=['Lynx', 'Hare'], \n",
    "        var_name='Animal', value_name='pelts')\n",
    "\n",
    "    \n",
    "    # Initialize figure\n",
    "    f, (ax1, ax2) = plt.subplots(1, 2, figsize=(12, 8))\n",
    "    f.suptitle(\"Data visualization\")\n",
    "    \n",
    "    # Phase space plot\n",
    "    ax1.quiver(data.Lynx[:-1].values, data.Hare[:-1].values, \n",
    "               data.Lynx[1:].values - data.Lynx[:-1].values, \n",
    "               data.Hare[1:].values - data.Hare[:-1].values, \n",
    "               scale_units='xy', angles='xy', scale=1,)\n",
    "\n",
    "    ax1.set_title(\"Phase space plot\")\n",
    "    ax1.set_xlabel(\"Lynx\")\n",
    "    ax1.set_ylabel(\"Hare\")\n",
    "\n",
    "    # Time evolution of populations\n",
    "    df.plot(ax=ax2, x='Year')\n",
    "\n",
    "    ax2.set_title(\"Animal population over time\")\n",
    "    ax2.set_xlabel(\"Year\")\n",
    "    ax2.set_ylabel(\"Pelts (thousands)\")\n",
    "    \n",
    "plot_initial_data(data)"
   ]
  },
  {
   "cell_type": "markdown",
   "metadata": {},
   "source": [
    "Next, we fit the model from the original case study. The only thing we modified here is to put the definition of the ODE into a seaparte Stan file (`~/ode.stan`), as this function will be shared across models."
   ]
  },
  {
   "cell_type": "code",
   "execution_count": 5,
   "metadata": {},
   "outputs": [
    {
     "name": "stderr",
     "output_type": "stream",
     "text": [
      "INFO:pystan:COMPILING THE C++ CODE FOR MODEL anon_model_cf5b981d41613c1770e4913adb2b2c86 NOW.\n"
     ]
    }
   ],
   "source": [
    "model_orig = pystan.StanModel(\"model.stan\")"
   ]
  },
  {
   "cell_type": "markdown",
   "metadata": {},
   "source": [
    "When we fit the model, we have to make sure that we delete the initial conditions from the data matrix `y`."
   ]
  },
  {
   "cell_type": "code",
   "execution_count": 6,
   "metadata": {},
   "outputs": [],
   "source": [
    "stan_data = prep_stan_data(data)\n",
    "fit_orig = model_orig.sampling(data=stan_data, iter=2000, chains=4, seed=123)"
   ]
  },
  {
   "cell_type": "markdown",
   "metadata": {},
   "source": [
    "After fitting we show a quick summary of the results:\n",
    "\n",
    "+ There were no divergences during the fit. \n",
    "+ Also the R-hat statistics are close to one.\n",
    "+ The `theta` parameters are the parameters of the ODE. \n",
    "+ `z_init` are the fitted initial means. \n",
    "+ `sigma` are the standard deviations in the lognormal distribution and \n",
    "+ `z` are the fitted mean population parameters."
   ]
  },
  {
   "cell_type": "code",
   "execution_count": 7,
   "metadata": {},
   "outputs": [
    {
     "name": "stderr",
     "output_type": "stream",
     "text": [
      "WARNING:pystan:Truncated summary with the 'fit.__repr__' method. For the full summary use 'print(fit)'\n"
     ]
    },
    {
     "data": {
      "text/plain": [
       "\n",
       "Warning: Shown data is truncated to 100 parameters\n",
       "For the full summary use 'print(fit)'\n",
       "\n",
       "Inference for Stan model: anon_model_cf5b981d41613c1770e4913adb2b2c86.\n",
       "4 chains, each with iter=2000; warmup=1000; thin=1; \n",
       "post-warmup draws per chain=1000, total post-warmup draws=4000.\n",
       "\n",
       "                      mean se_mean     sd   2.5%    25%    50%    75%  97.5%  n_eff   Rhat\n",
       "theta[1]              0.55  2.1e-3   0.06   0.43    0.5   0.54   0.59   0.69    977    1.0\n",
       "theta[2]              0.03  1.3e-4 4.3e-3   0.02   0.02   0.03   0.03   0.04   1083    1.0\n",
       "theta[3]               0.8  3.0e-3   0.09   0.64   0.74    0.8   0.86    1.0    927    1.0\n",
       "theta[4]              0.02  1.1e-4 3.6e-3   0.02   0.02   0.02   0.03   0.03    999    1.0\n",
       "z_init[1]            33.95    0.06    2.9  28.53  31.95  33.86  35.77  40.04   2050    1.0\n",
       "z_init[2]             5.94    0.01   0.54   4.96   5.57   5.92   6.28   7.11   1765    1.0\n",
       "sigma[1]              0.25  8.9e-4   0.04   0.18   0.22   0.24   0.27   0.36   2470    1.0\n",
       "sigma[2]              0.25  8.8e-4   0.04   0.18   0.22   0.25   0.28   0.35   2521    1.0\n",
       "z[1,1]               49.16    0.11   4.41  40.96  46.22  48.88  51.92  58.76   1754    1.0\n",
       "z[2,1]               65.49    0.16   6.51  53.12   61.0  65.24  69.59  79.13   1562    1.0\n",
       "z[3,1]               65.46    0.15   6.94  52.69  60.74  65.23  69.82  79.84   2156    1.0\n",
       "z[4,1]               38.54    0.07   4.15  31.24   35.6  38.29  41.15  47.22   3222    1.0\n",
       "z[5,1]               19.34    0.03   1.78  16.13  18.14  19.25  20.43  23.07   3667    1.0\n",
       "z[6,1]               13.37    0.02   1.17  11.18  12.59  13.33  14.13  15.85   2723    1.0\n",
       "z[7,1]               12.97    0.02   1.15  10.81  12.18  12.92   13.7  15.35   2192    1.0\n",
       "z[8,1]               15.65    0.03   1.29  13.15  14.78  15.61  16.47  18.18   2213    1.0\n",
       "z[9,1]               21.31    0.03   1.51   18.4  20.32  21.27  22.32  24.25   2737    1.0\n",
       "z[10,1]              30.77    0.04   2.03  26.89  29.42  30.71  32.09  34.84   2971    1.0\n",
       "z[11,1]              44.89    0.08   3.46  38.43  42.55  44.79  47.03  51.95   1990    1.0\n",
       "z[12,1]              61.92    0.15   5.95  50.92  57.86  61.74  65.57  73.99   1623    1.0\n",
       "z[13,1]              68.61    0.17   7.07  55.34  63.74  68.45  72.96  83.78   1830    1.0\n",
       "z[14,1]              46.03    0.09   4.76  37.45  42.73  45.82   49.1   55.9   2902    1.0\n",
       "z[15,1]              22.61    0.04   2.32  18.42   21.0  22.48  24.06  27.34   3277    1.0\n",
       "z[16,1]              14.19    0.03    1.3  11.85  13.31  14.12  15.04   16.9   2608    1.0\n",
       "z[17,1]              12.76    0.02   1.13  10.63  11.99   12.7  13.48  15.12   2312    1.0\n",
       "z[18,1]              14.72    0.03    1.3  12.23  13.84  14.66  15.56  17.34   2674    1.0\n",
       "z[19,1]              19.59    0.03   1.72  16.37  18.42  19.54  20.68  23.11   3624    1.0\n",
       "z[20,1]              28.01    0.04   2.56  23.35  26.23  27.92  29.64  33.27   3944    1.0\n",
       "z[1,2]                7.17    0.01   0.67   5.93   6.73   7.14   7.57   8.61   2982    1.0\n",
       "z[2,2]               12.82    0.03   1.49  10.13  11.81  12.74  13.74  15.97   3241    1.0\n",
       "z[3,2]               29.22    0.07   3.48  22.78  26.82  29.11  31.44  36.39   2623    1.0\n",
       "z[4,2]               46.63    0.12   5.28  37.03  43.08  46.25  49.85  58.09   1977    1.0\n",
       "z[5,2]               40.52     0.1   4.39  32.58  37.54  40.22  43.09  49.92   2060    1.0\n",
       "z[6,2]                26.5    0.04   2.39  22.21   24.9  26.37  27.94  31.44   2856    1.0\n",
       "z[7,2]               16.23    0.02   1.28  13.89  15.35  16.17  17.04  18.83   3296    1.0\n",
       "z[8,2]               10.24    0.02   0.83   8.67   9.69  10.21  10.77  11.98   2103    1.0\n",
       "z[9,2]                7.14    0.02   0.63   5.97   6.72   7.11   7.54   8.45   1652    1.0\n",
       "z[10,2]               5.96    0.01   0.54   4.97   5.58   5.93   6.31   7.11   1700    1.0\n",
       "z[11,2]               6.58    0.01   0.62   5.46   6.15   6.55   6.96   7.91   2361    1.0\n",
       "z[12,2]              10.62    0.02    1.1   8.57   9.86  10.55  11.32  12.97   3122    1.0\n",
       "z[13,2]              23.77    0.05   2.78  18.82  21.83   23.6  25.56  29.45   3573    1.0\n",
       "z[14,2]              44.15     0.1   5.07  34.99   40.7  43.82  47.22  54.84   2414    1.0\n",
       "z[15,2]              43.72    0.11   4.83  34.93  40.53  43.35  46.62  54.53   1814    1.0\n",
       "z[16,2]              29.91    0.06   2.92  24.68  27.88  29.77  31.69  36.37   2360    1.0\n",
       "z[17,2]              18.42    0.03    1.6  15.53  17.32  18.35  19.43  21.77   3995    1.0\n",
       "z[18,2]              11.46    0.02   0.98   9.63   10.8  11.42  12.09  13.48   3583    1.0\n",
       "z[19,2]               7.74    0.01   0.67   6.47   7.29   7.71   8.17   9.14   2205    1.0\n",
       "z[20,2]               6.12    0.01   0.54   5.14   5.76    6.1   6.46   7.25   1747    1.0\n",
       "y_init_rep[1]        35.04    0.15   9.44  19.87  28.53  33.95   40.1  56.95   3863    1.0\n",
       "y_init_rep[2]         6.11    0.03   1.67   3.41   4.99   5.88    7.0   9.95   2974    1.0\n",
       "y_rep[1,1]           50.51    0.24  13.98  28.59  40.67  48.46  58.24  82.73   3301    1.0\n",
       "y_rep[2,1]            67.7    0.32  18.45  38.86  55.08  65.25   77.8 110.73   3229    1.0\n",
       "y_rep[3,1]           66.71     0.3  18.38  37.14  54.36  64.19  77.17 109.18   3774    1.0\n",
       "y_rep[4,1]           39.81    0.18  11.17   21.7  32.14  38.41   46.0  65.61   3939    1.0\n",
       "y_rep[5,1]           19.98    0.09   5.63  11.22  16.08   19.3  22.86   32.8   4040    1.0\n",
       "y_rep[6,1]           13.76    0.06   3.72   7.65  11.23  13.33  15.79   22.4   3896    1.0\n",
       "y_rep[7,1]           13.37    0.06   3.62   7.72  10.86  12.85  15.31  21.65   3875    1.0\n",
       "y_rep[8,1]           16.21    0.07   4.49   9.02  13.07   15.6   18.6  26.69   3897    1.0\n",
       "y_rep[9,1]           22.11     0.1   5.85  12.68  18.07  21.33  25.32  35.75   3267    1.0\n",
       "y_rep[10,1]           31.7    0.13   8.46  17.53  25.74  30.86   36.5  51.27   3935    1.0\n",
       "y_rep[11,1]          46.54    0.21   12.9  26.75  37.32  45.06  53.62  76.59   3702    1.0\n",
       "y_rep[12,1]           64.2    0.29  17.96  36.15  51.96  61.96  73.47 107.59   3724    1.0\n",
       "y_rep[13,1]          70.27    0.32   19.5  39.04  56.81   67.9  80.59 114.22   3801    1.0\n",
       "y_rep[14,1]          47.63    0.21  13.21  27.09  38.43  45.63  54.87  78.17   3861    1.0\n",
       "y_rep[15,1]          23.15     0.1   6.36  13.04  18.64  22.29  26.86  37.86   3785    1.0\n",
       "y_rep[16,1]          14.71    0.07   4.02    8.4  12.02  14.18  16.79  24.17   3822    1.0\n",
       "y_rep[17,1]          13.26    0.06   3.73   7.42  10.75  12.78  15.32  21.55   3922    1.0\n",
       "y_rep[18,1]          15.06    0.07   4.15   8.49  12.23  14.55  17.23   24.8   3674    1.0\n",
       "y_rep[19,1]          20.28    0.09   5.54   11.4  16.35  19.56  23.46  33.11   3974    1.0\n",
       "y_rep[20,1]          28.94    0.12   8.09  16.17  23.43  27.91  33.29  47.47   4200    1.0\n",
       "y_rep[1,2]            7.48    0.03   2.13    4.2   6.02   7.16   8.59  12.37   3818    1.0\n",
       "y_rep[2,2]           13.24    0.06   3.88    7.3  10.55  12.65  15.31  22.34   3788    1.0\n",
       "y_rep[3,2]            30.0    0.14   8.55  16.32  24.12  28.96  34.72  50.06   3582    1.0\n",
       "y_rep[4,2]           48.23    0.23   13.8  25.52  38.91   46.4  55.72  80.64   3638    1.0\n",
       "y_rep[5,2]           41.82    0.21  12.06  23.22  33.28  40.29  48.29  69.64   3301    1.0\n",
       "y_rep[6,2]           27.37    0.13   7.74  15.48  22.12  26.42  31.57  44.83   3823    1.0\n",
       "y_rep[7,2]           16.81    0.08   4.63   9.51  13.63  16.24  19.31   27.5   3454    1.0\n",
       "y_rep[8,2]           10.58    0.05   2.87   6.05   8.56  10.25  12.18  17.29   3921    1.0\n",
       "y_rep[9,2]             7.4    0.03   2.05   4.24   5.97   7.13    8.5  12.19   3880    1.0\n",
       "y_rep[10,2]           6.13    0.03   1.72    3.5   4.95   5.88   7.03  10.15   3673    1.0\n",
       "y_rep[11,2]           6.75    0.03   1.92    3.8   5.41   6.52   7.79  11.24   3708    1.0\n",
       "y_rep[12,2]          11.01    0.05   3.18   6.03   8.85  10.61  12.67  18.29   3766    1.0\n",
       "y_rep[13,2]          24.72    0.12   7.52  13.47  19.49  23.66  28.61  42.11   3766    1.0\n",
       "y_rep[14,2]          45.86    0.23  13.68  24.86  36.69  44.18  52.84  77.37   3612    1.0\n",
       "y_rep[15,2]           44.9    0.22  12.93   24.7   36.0  43.05  51.93   74.5   3469    1.0\n",
       "y_rep[16,2]          31.06    0.14   8.78  17.43  25.08   29.9  35.67  51.66   3861    1.0\n",
       "y_rep[17,2]          18.92    0.09   5.27  10.57  15.37  18.23  21.73   31.0   3696    1.0\n",
       "y_rep[18,2]          11.78    0.05   3.17   6.67   9.59  11.38  13.48  19.19   3733    1.0\n",
       "y_rep[19,2]           7.97    0.04   2.19   4.48   6.49   7.71   9.11  13.19   3907    1.0\n",
       "y_rep[20,2]           6.33    0.03   1.78   3.58   5.12   6.11   7.26   10.6   3471    1.0\n",
       "log_likelihood[1,1]  -3.45  4.3e-3   0.19  -3.87  -3.56  -3.43  -3.31  -3.11   2080    1.0\n",
       "log_likelihood[2,1]  -3.89  5.1e-3   0.23  -4.42  -4.02  -3.87  -3.73  -3.52   2027    1.0\n",
       "log_likelihood[3,1]  -4.21  7.2e-3   0.35  -5.08  -4.39  -4.14  -3.97  -3.72   2306    1.0\n",
       "log_likelihood[4,1]  -3.23  4.7e-3   0.23  -3.73  -3.35   -3.2  -3.07  -2.86   2353    1.0\n",
       "log_likelihood[5,1]  -2.65  4.1e-3   0.21  -3.11  -2.77  -2.63   -2.5   -2.3   2501    1.0\n",
       "log_likelihood[6,1]  -3.29  8.7e-3   0.47  -4.35  -3.55  -3.22  -2.95   -2.6   2917    1.0\n",
       "log_likelihood[7,1]  -4.86    0.02   0.93  -6.95   -5.4  -4.74  -4.17  -3.44   2437    1.0\n",
       "log_likelihood[8,1]  -3.69    0.01   0.51  -4.91  -3.97  -3.61  -3.32  -2.95   2270    1.0\n",
       "log_likelihood[9,1]  -3.06  5.0e-3   0.24  -3.61   -3.2  -3.04   -2.9  -2.66   2355    1.0\n",
       "lp__                 28.17    0.06   2.25  22.68  26.91  28.58  29.81  31.44   1335    1.0\n",
       "\n",
       "Samples were drawn using NUTS at Sun Dec 22 07:11:05 2019.\n",
       "For each parameter, n_eff is a crude measure of effective sample size,\n",
       "and Rhat is the potential scale reduction factor on split chains (at \n",
       "convergence, Rhat=1)."
      ]
     },
     "execution_count": 7,
     "metadata": {},
     "output_type": "execute_result"
    }
   ],
   "source": [
    "fit_orig"
   ]
  },
  {
   "cell_type": "markdown",
   "metadata": {},
   "source": [
    "The [rank plots](https://arxiv.org/abs/1903.08008) for the ODE parameters and the variance look close to uniform across chains for all paramteres, indicating a good mixing."
   ]
  },
  {
   "cell_type": "code",
   "execution_count": 8,
   "metadata": {},
   "outputs": [],
   "source": [
    "posterior = az.from_pystan(\n",
    "    fit_orig, \n",
    "    posterior_predictive='y_rep',\n",
    "    coords={'theta_dim_0': [r'$\\alpha$', r'$\\beta$', r'$\\gamma$', r'$\\delta$']})"
   ]
  },
  {
   "cell_type": "code",
   "execution_count": 9,
   "metadata": {},
   "outputs": [
    {
     "data": {
      "text/plain": [
       "array([<matplotlib.axes._subplots.AxesSubplot object at 0x11c7944a8>,\n",
       "       <matplotlib.axes._subplots.AxesSubplot object at 0x11c774208>,\n",
       "       <matplotlib.axes._subplots.AxesSubplot object at 0x11c70a7b8>,\n",
       "       <matplotlib.axes._subplots.AxesSubplot object at 0x11c6f7748>,\n",
       "       <matplotlib.axes._subplots.AxesSubplot object at 0x11c6bc4e0>,\n",
       "       <matplotlib.axes._subplots.AxesSubplot object at 0x11c665d30>],\n",
       "      dtype=object)"
      ]
     },
     "execution_count": 9,
     "metadata": {},
     "output_type": "execute_result"
    },
    {
     "data": {
      "image/png": "[encoded data removed]",
      "text/plain": [
       "<Figure size 1490.4x662.4 with 6 Axes>"
      ]
     },
     "metadata": {
      "needs_background": "light"
     },
     "output_type": "display_data"
    }
   ],
   "source": [
    "az.plot_rank(posterior, var_names=['theta', 'sigma'])"
   ]
  },
  {
   "cell_type": "markdown",
   "metadata": {},
   "source": [
    "# Simulation-based calibration\n",
    "\n",
    "## Description\n",
    "We now turn to [validating the model fitting process](https://amstat.tandfonline.com/doi/abs/10.1198/106186006X136976). \n",
    "The main idea of the paper is based on the following simple observation: sampling a point from the joint distribution $p(y, \\theta) \\propto p(\\theta)p(y\\vert \\theta)$ and performing inference to obtain points from $p(\\theta \\vert y)$ is the same as sampling directly from the prior $p(\\theta)$, if the inference algorithm works correctly.\n",
    "\n",
    "This implies that the quantile of a sample $\\theta^0$ from the prior parameters should be *uniformly* distributed among the quantiles of the posterior $p(\\theta \\vert y)$, where $y$ is simulated using $\\theta^0$. This observation leads to the following algorithm:\n",
    "\n",
    "> **Algorithm 1**\n",
    ">\n",
    ">Repeat N times\n",
    ">  1. Sample $\\theta^0$ from $p(\\theta)$\n",
    ">  2. Sample observerations $y$ from $p(y \\vert \\theta^0)$\n",
    ">  3. Calculate $L$ samples $\\theta^1, \\dots, \\theta^L$ from the posterior $p(\\theta \\vert y)$\n",
    ">  4. Compute the empirical quantile $q(\\theta^0)$ of $\\theta^0$ among the posterior samples $\\theta^1,\\dots,\\theta^L$.\n",
    ">\n",
    "> Return length N array of quantiles.\n",
    "  \n",
    "We can then evaluate the uniformity by plotting a histogram of the ranks. In the algorithm above, we implicitly assumed that $\\theta$ is a draw from the full prior distribution, i.e. $\\theta$ is a point in the parameter space. We compute the empirical quantiles for the scalar components and make histograms for each component.\n",
    "\n",
    "## A single iteration\n",
    "\n",
    "We first carry out this procedure a single time, i.e. $N=1$ in the algorithm above.\n",
    "\n",
    "We sample the prior parameters in Python, rather than Stan, but then pass the sampled parameters in the `data` block to Stan. This allows us to use Stan for integrating the ODE.\n",
    "\n",
    "Note that the equation defining the ODE is shared between the model in the previous section and the model in this section. It is imported in both Stan files with an `#include \"ode.stan\";` statement in the `functions` block.\n",
    "\n",
    "We show the model code below:"
   ]
  },
  {
   "cell_type": "code",
   "execution_count": 10,
   "metadata": {},
   "outputs": [
    {
     "name": "stdout",
     "output_type": "stream",
     "text": [
      "functions {\n",
      "#include \"ode.stan\";\n",
      "}\n",
      "\n",
      "data {\n",
      "  int<lower=0> N;           // number of measurement times\n",
      "  real ts[N];               // measurement times > 0\n",
      "  real z_init[2];           // initial measured populations\n",
      "  real<lower=0> theta[4];   // { alpha, beta, gamma, delta}\n",
      "  real<lower=0> sigma[2];   // measurement errors\n",
      "}\n",
      "\n",
      "transformed parameters {\n",
      "  real z[N, 2]\n",
      "    = integrate_ode_rk45(dz_dt, z_init, 0, ts, theta,\n",
      "                         rep_array(0.0, 0), rep_array(0, 0),\n",
      "                         1e-5, 1e-3, 5e2);\n",
      "}\n",
      "\n",
      "generated quantities {\n",
      "  real<lower=0> y_init[2];\n",
      "  real<lower=0> y[N, 2];\n",
      "  for (k in 1:2) {\n",
      "    y_init[k] = lognormal_rng(log(z_init[k]), sigma[k]);\n",
      "    y[ , k] = lognormal_rng(log(z[ , k]), sigma[k]);\n",
      "  }\n",
      "}\n"
     ]
    }
   ],
   "source": [
    "with open('fake_data_sampling.stan') as model_file:\n",
    "    print(model_file.read())"
   ]
  },
  {
   "cell_type": "code",
   "execution_count": 11,
   "metadata": {},
   "outputs": [
    {
     "name": "stderr",
     "output_type": "stream",
     "text": [
      "INFO:pystan:COMPILING THE C++ CODE FOR MODEL anon_model_3df0cc286f55f4f3d25a1a26ae1372e3 NOW.\n"
     ]
    }
   ],
   "source": [
    "prior_sampler = pystan.StanModel(\"fake_data_sampling.stan\")"
   ]
  },
  {
   "cell_type": "code",
   "execution_count": 12,
   "metadata": {},
   "outputs": [],
   "source": [
    "np.random.seed(2)\n",
    "thetas = np.zeros(4)\n",
    "# Taking the absolute value of a normal is the same as restricting the\n",
    "# sampling from a normal with lower bound zero. \n",
    "thetas[[0, 2]] = np.abs(np.random.normal(1, 0.5, size=2))\n",
    "thetas[[1, 3]] = np.abs(np.random.normal(0.05, 0.05, size=2))\n",
    "\n",
    "# Sample variances\n",
    "sigmas = np.random.lognormal(-1, 1, size=2)\n",
    "\n",
    "# Sample initial means\n",
    "z_init = np.random.lognormal(np.log(10), 1, size=2)\n",
    "\n",
    "# Compose into data to pass to stan\n",
    "gen_data = {\n",
    "    'N': data.shape[0] - 1,\n",
    "    'ts': np.arange(1, data.shape[0]),\n",
    "    'z_init': z_init,\n",
    "    'theta': thetas,\n",
    "    'sigma': sigmas}\n",
    "\n",
    "# Integrate the ODE and sample from the log normal\n",
    "gen_data = prior_sampler.sampling(\n",
    "    gen_data,\n",
    "    algorithm='Fixed_param',\n",
    "    warmup=0,\n",
    "    iter=1)"
   ]
  },
  {
   "cell_type": "markdown",
   "metadata": {},
   "source": [
    "We use [arviz](https://arviz-devs.github.io/arviz/) to extract the sampled data. Then we repeat the phase space plot from the beginning."
   ]
  },
  {
   "cell_type": "code",
   "execution_count": 13,
   "metadata": {},
   "outputs": [
    {
     "name": "stderr",
     "output_type": "stream",
     "text": [
      "/Users/Alex/.local/share/virtualenvs/StanCS-04kPSO1L/lib/python3.7/site-packages/arviz/data/base.py:123: SyntaxWarning: More chains (4) than draws (1). Passed array should have shape (chains, draws, *shape)\n",
      "  SyntaxWarning,\n"
     ]
    },
    {
     "data": {
      "text/plain": [
       "Text(0, 0.5, 'Pelts (thousands)')"
      ]
     },
     "execution_count": 13,
     "metadata": {},
     "output_type": "execute_result"
    },
    {
     "data": {
      "image/png": "[encoded data removed]",
      "text/plain": [
       "<Figure size 864x576 with 2 Axes>"
      ]
     },
     "metadata": {
      "needs_background": "light"
     },
     "output_type": "display_data"
    }
   ],
   "source": [
    "z_ = az.from_pystan(gen_data).posterior['z']\n",
    "\n",
    "# Creates two subplots and unpacks the output array immediately\n",
    "f, (ax1, ax2) = plt.subplots(1, 2, figsize=(12, 8))\n",
    "\n",
    "f.suptitle(\"Fake data visualization\")\n",
    "\n",
    "ax1.quiver(z_.data[0, 0, :-1, 0], z_.data[0, 0, :-1, 1], \n",
    "           z_.data[0, 0, 1:, 0] - z_.data[0, 0, :-1, 0], \n",
    "           z_.data[0, 0, 1:, 1] - z_.data[0, 0, :-1, 1], \n",
    "           scale_units='xy', angles='xy', scale=1,)\n",
    "\n",
    "ax1.set_title(\"Phase space plot\")\n",
    "ax1.set_xlabel(\"Lynx\")\n",
    "ax1.set_ylabel(\"Hare\")\n",
    "\n",
    "sns.lineplot(x=np.arange(0, 20), y=z_.data[0, 0, :, 0], label='Hare', marker='o', ax=ax2)\n",
    "sns.lineplot(x=np.arange(0, 20), y=z_.data[0, 0, :, 1], label='Lynx', marker='o', ax=ax2)\n",
    "\n",
    "ax2.set_title(\"Animal population over time\")\n",
    "ax2.set_xlabel(\"Year\")\n",
    "ax2.set_ylabel(\"Pelts (thousands)\")"
   ]
  },
  {
   "cell_type": "markdown",
   "metadata": {},
   "source": [
    "**EXPLAIN WHY WE PLOT**\n",
    "The goal of this exercise is not to do a prior-predictive check, but rather to ensure that the model fitting process works well. Nevertheless, it makes sense to ensure that the simulated data are not too far the expected values, as the model fitting process may fail because of data that are on the wrong scale. **WHY?**"
   ]
  },
  {
   "cell_type": "markdown",
   "metadata": {},
   "source": [
    "Our next goal is to perform step 3. from Algorithm 1, i.e. perform MCMC on the simulated data. We can use the original Stan model for this task."
   ]
  },
  {
   "cell_type": "code",
   "execution_count": 14,
   "metadata": {},
   "outputs": [],
   "source": [
    "# Extract fake *data*\n",
    "post = az.from_pystan(gen_data).posterior\n",
    "# Put them into format for Stan\n",
    "stan_data = {\n",
    "    'N': data.shape[0] - 1,\n",
    "    'ts': np.arange(1, data.shape[0]),\n",
    "    'y_init': post['y_init'][0, 0, :],\n",
    "    'y': post['y'][0, 0, :, :]  # Don't need to subindex from 0\n",
    "    }\n",
    "\n",
    "# and sample\n",
    "gen_fit = model_orig.sampling(data=stan_data, iter=1000, chains=4, seed=123)"
   ]
  },
  {
   "cell_type": "markdown",
   "metadata": {},
   "source": [
    "Let's compare the true values $\\theta^0$ to the fitted. The right most column shows the main quantity of interest: the quantile of $\\theta^0$ among the MCMC posterior samples. As we mentioned before, if the inference algorithm works correctly, this quantity should be distributed uniformly."
   ]
  },
  {
   "cell_type": "code",
   "execution_count": 15,
   "metadata": {},
   "outputs": [
    {
     "data": {
      "text/plain": [
       "array([0.84457771, 0.65817091])"
      ]
     },
     "execution_count": 15,
     "metadata": {},
     "output_type": "execute_result"
    }
   ],
   "source": [
    "posterior = az.from_pystan(\n",
    "    gen_fit, \n",
    "    posterior_predictive='y_rep')\n",
    "\n",
    "theta_post = posterior.posterior['theta'].stack(sample=('chain', 'draw')).values\n",
    "with_exact = np.concatenate([np.reshape(thetas, (4, 1)), theta_post], axis=1)\n",
    "theta_qs = with_exact.argsort(axis=1)[:, 0] / with_exact.shape[1]\n",
    "\n",
    "sigma_post = posterior.posterior['sigma'].stack(sample=('chain', 'draw')).values\n",
    "with_exact = np.concatenate([np.reshape(sigmas, (2, 1)), sigma_post], axis=1)\n",
    "sigma_qs = with_exact.argsort(axis=1)[:, 0] / with_exact.shape[1]\n",
    "\n",
    "z_init_post = posterior.posterior['z_init'].stack(sample=('chain', 'draw')).values\n",
    "with_exact = np.concatenate([np.reshape(z_init, (2, 1)), z_init_post], axis=1)\n",
    "z_init_qs = with_exact.argsort(axis=1)[:, 0] / with_exact.shape[1]\n",
    "\n",
    "\n",
    "sigma_qs"
   ]
  },
  {
   "cell_type": "code",
   "execution_count": 16,
   "metadata": {},
   "outputs": [
    {
     "data": {
      "text/html": [
       "<div>\n",
       "<style scoped>\n",
       "    .dataframe tbody tr th:only-of-type {\n",
       "        vertical-align: middle;\n",
       "    }\n",
       "\n",
       "    .dataframe tbody tr th {\n",
       "        vertical-align: top;\n",
       "    }\n",
       "\n",
       "    .dataframe thead th {\n",
       "        text-align: right;\n",
       "    }\n",
       "</style>\n",
       "<table border=\"1\" class=\"dataframe\">\n",
       "  <thead>\n",
       "    <tr style=\"text-align: right;\">\n",
       "      <th></th>\n",
       "      <th>mean</th>\n",
       "      <th>sd</th>\n",
       "      <th>mcse_mean</th>\n",
       "      <th>mcse_sd</th>\n",
       "      <th>hpd_3%</th>\n",
       "      <th>hpd_97%</th>\n",
       "      <th>ess_mean</th>\n",
       "      <th>ess_sd</th>\n",
       "      <th>ess_bulk</th>\n",
       "      <th>ess_tail</th>\n",
       "      <th>r_hat</th>\n",
       "      <th>true_value</th>\n",
       "      <th>quantile</th>\n",
       "    </tr>\n",
       "  </thead>\n",
       "  <tbody>\n",
       "    <tr>\n",
       "      <th>theta[0]</th>\n",
       "      <td>0.832</td>\n",
       "      <td>0.019</td>\n",
       "      <td>0.001</td>\n",
       "      <td>0.001</td>\n",
       "      <td>0.797</td>\n",
       "      <td>0.869</td>\n",
       "      <td>593.0</td>\n",
       "      <td>593.0</td>\n",
       "      <td>592.0</td>\n",
       "      <td>781.0</td>\n",
       "      <td>1.01</td>\n",
       "      <td>0.79</td>\n",
       "      <td>0.03</td>\n",
       "    </tr>\n",
       "    <tr>\n",
       "      <th>theta[1]</th>\n",
       "      <td>0.064</td>\n",
       "      <td>0.004</td>\n",
       "      <td>0.000</td>\n",
       "      <td>0.000</td>\n",
       "      <td>0.055</td>\n",
       "      <td>0.072</td>\n",
       "      <td>758.0</td>\n",
       "      <td>758.0</td>\n",
       "      <td>748.0</td>\n",
       "      <td>962.0</td>\n",
       "      <td>1.01</td>\n",
       "      <td>0.06</td>\n",
       "      <td>0.03</td>\n",
       "    </tr>\n",
       "    <tr>\n",
       "      <th>theta[2]</th>\n",
       "      <td>0.905</td>\n",
       "      <td>0.028</td>\n",
       "      <td>0.001</td>\n",
       "      <td>0.001</td>\n",
       "      <td>0.856</td>\n",
       "      <td>0.959</td>\n",
       "      <td>616.0</td>\n",
       "      <td>615.0</td>\n",
       "      <td>618.0</td>\n",
       "      <td>863.0</td>\n",
       "      <td>1.01</td>\n",
       "      <td>0.97</td>\n",
       "      <td>0.81</td>\n",
       "    </tr>\n",
       "    <tr>\n",
       "      <th>theta[3]</th>\n",
       "      <td>0.120</td>\n",
       "      <td>0.004</td>\n",
       "      <td>0.000</td>\n",
       "      <td>0.000</td>\n",
       "      <td>0.112</td>\n",
       "      <td>0.128</td>\n",
       "      <td>594.0</td>\n",
       "      <td>592.0</td>\n",
       "      <td>598.0</td>\n",
       "      <td>803.0</td>\n",
       "      <td>1.01</td>\n",
       "      <td>0.13</td>\n",
       "      <td>0.81</td>\n",
       "    </tr>\n",
       "    <tr>\n",
       "      <th>sigma[0]</th>\n",
       "      <td>0.044</td>\n",
       "      <td>0.009</td>\n",
       "      <td>0.000</td>\n",
       "      <td>0.000</td>\n",
       "      <td>0.029</td>\n",
       "      <td>0.060</td>\n",
       "      <td>1126.0</td>\n",
       "      <td>1071.0</td>\n",
       "      <td>1208.0</td>\n",
       "      <td>1003.0</td>\n",
       "      <td>1.00</td>\n",
       "      <td>0.06</td>\n",
       "      <td>0.84</td>\n",
       "    </tr>\n",
       "    <tr>\n",
       "      <th>sigma[1]</th>\n",
       "      <td>0.222</td>\n",
       "      <td>0.038</td>\n",
       "      <td>0.001</td>\n",
       "      <td>0.001</td>\n",
       "      <td>0.156</td>\n",
       "      <td>0.293</td>\n",
       "      <td>1322.0</td>\n",
       "      <td>1270.0</td>\n",
       "      <td>1399.0</td>\n",
       "      <td>938.0</td>\n",
       "      <td>1.00</td>\n",
       "      <td>0.16</td>\n",
       "      <td>0.66</td>\n",
       "    </tr>\n",
       "    <tr>\n",
       "      <th>z_init[0]</th>\n",
       "      <td>17.628</td>\n",
       "      <td>0.364</td>\n",
       "      <td>0.011</td>\n",
       "      <td>0.008</td>\n",
       "      <td>16.968</td>\n",
       "      <td>18.326</td>\n",
       "      <td>1024.0</td>\n",
       "      <td>1024.0</td>\n",
       "      <td>1021.0</td>\n",
       "      <td>990.0</td>\n",
       "      <td>1.01</td>\n",
       "      <td>16.53</td>\n",
       "      <td>0.36</td>\n",
       "    </tr>\n",
       "    <tr>\n",
       "      <th>z_init[1]</th>\n",
       "      <td>3.227</td>\n",
       "      <td>0.200</td>\n",
       "      <td>0.005</td>\n",
       "      <td>0.004</td>\n",
       "      <td>2.851</td>\n",
       "      <td>3.599</td>\n",
       "      <td>1334.0</td>\n",
       "      <td>1324.0</td>\n",
       "      <td>1342.0</td>\n",
       "      <td>1306.0</td>\n",
       "      <td>1.01</td>\n",
       "      <td>2.88</td>\n",
       "      <td>0.83</td>\n",
       "    </tr>\n",
       "  </tbody>\n",
       "</table>\n",
       "</div>"
      ],
      "text/plain": [
       "             mean     sd  mcse_mean  mcse_sd  hpd_3%  hpd_97%  ess_mean  \\\n",
       "theta[0]    0.832  0.019      0.001    0.001   0.797    0.869     593.0   \n",
       "theta[1]    0.064  0.004      0.000    0.000   0.055    0.072     758.0   \n",
       "theta[2]    0.905  0.028      0.001    0.001   0.856    0.959     616.0   \n",
       "theta[3]    0.120  0.004      0.000    0.000   0.112    0.128     594.0   \n",
       "sigma[0]    0.044  0.009      0.000    0.000   0.029    0.060    1126.0   \n",
       "sigma[1]    0.222  0.038      0.001    0.001   0.156    0.293    1322.0   \n",
       "z_init[0]  17.628  0.364      0.011    0.008  16.968   18.326    1024.0   \n",
       "z_init[1]   3.227  0.200      0.005    0.004   2.851    3.599    1334.0   \n",
       "\n",
       "           ess_sd  ess_bulk  ess_tail  r_hat  true_value  quantile  \n",
       "theta[0]    593.0     592.0     781.0   1.01        0.79      0.03  \n",
       "theta[1]    758.0     748.0     962.0   1.01        0.06      0.03  \n",
       "theta[2]    615.0     618.0     863.0   1.01        0.97      0.81  \n",
       "theta[3]    592.0     598.0     803.0   1.01        0.13      0.81  \n",
       "sigma[0]   1071.0    1208.0    1003.0   1.00        0.06      0.84  \n",
       "sigma[1]   1270.0    1399.0     938.0   1.00        0.16      0.66  \n",
       "z_init[0]  1024.0    1021.0     990.0   1.01       16.53      0.36  \n",
       "z_init[1]  1324.0    1342.0    1306.0   1.01        2.88      0.83  "
      ]
     },
     "execution_count": 16,
     "metadata": {},
     "output_type": "execute_result"
    }
   ],
   "source": [
    "summary = az.summary(\n",
    "    gen_fit,\n",
    "    var_names=['theta', 'sigma', 'z_init'])\n",
    "summary['true_value'] = [round(val, 2) for ar in [thetas, sigmas, z_init] for val in ar]\n",
    "summary['quantile'] = np.round(np.concatenate([theta_qs, sigma_qs, z_init_qs]), 2)\n",
    "summary"
   ]
  },
  {
   "cell_type": "markdown",
   "metadata": {},
   "source": [
    "We see that no quantiles are very extreme and that we can recover the parameters well."
   ]
  },
  {
   "cell_type": "markdown",
   "metadata": {},
   "source": [
    "## Multiple draws\n",
    "\n",
    "With a single iteration, we cannot check the distribution of the quantiles of $\\theta^0$ among the MCMC samples. To check uniformity of the quantile, we thus need to repeat the above procedure multiple times. Here, we take 50 repetitions.\n",
    "\n",
    "This means that we sample 50 fake data sets, integrate the ODE and add lognormally distributed noise. Then we fit the posterior distribution and calculate the quantile of the parameter $\\theta^0$."
   ]
  },
  {
   "cell_type": "code",
   "execution_count": null,
   "metadata": {},
   "outputs": [],
   "source": [
    "def get_fake_data(seed=None):\n",
    "    \"\"\"\n",
    "    Simulate a dataset from the full model p(y, theta).\n",
    "    \n",
    "    Args:\n",
    "      seed: The random seed to simulate data\n",
    "      \n",
    "    Returns:\n",
    "      (theta, sigmas, z_init, fake_data): Parameters used to simulate fake_data and\n",
    "        the simulated data.\n",
    "    \"\"\"\n",
    "    if seed:\n",
    "        np.random.seed(seed)\n",
    "        \n",
    "    thetas = np.zeros(4)\n",
    "    # Taking the absolute value of a normal is the same as restricting the\n",
    "    # sampling from a normal with lower bound zero. \n",
    "    thetas[[0, 2]] = np.abs(np.random.normal(1, 0.5, size=2))\n",
    "    thetas[[1, 3]] = np.abs(np.random.normal(0.05, 0.05, size=2))\n",
    "\n",
    "    sigmas = np.random.lognormal(-1, 1, size=2)\n",
    "\n",
    "    z_init = np.random.lognormal(np.log(10), 1, size=2)\n",
    "\n",
    "    fake_sampler_data = {'N': data.shape[0] - 1,\n",
    "                         'ts': np.arange(1, data.shape[0]),\n",
    "                         'z_init': z_init,\n",
    "                         'theta': thetas,\n",
    "                         'sigma': sigmas}\n",
    "\n",
    "    fake_data = fake_sampler.sampling(fake_sampler_data, algorithm='Fixed_param', warmup=0, iter=1)\n",
    "    \n",
    "    return thetas, sigmas, z_init, fake_data\n",
    "\n",
    "def fit_model(sim_data):\n",
    "    \"\"\"\n",
    "    Use Stan to fit the Volterra Lotka equations to dataset.\n",
    "    \n",
    "    Args:\n",
    "      sim_data: data set which should be fitted\n",
    "      \n",
    "    Returns:\n",
    "      fitted object returned by Stan\n",
    "    \"\"\"\n",
    "\n",
    "    # Put them into format for Stan\n",
    "    stan_data = {'N': data.shape[0] - 1,\n",
    "                 'ts': np.arange(1, data.shape[0]),\n",
    "                 'y_init': sim_data['y_init'][0, 0, :],\n",
    "                 'y': sim_data['y'][0, 0, :, :]  # Don't need to subindex from 0\n",
    "                 }\n",
    "\n",
    "    # and sample\n",
    "    fit = model.sampling(data=stan_data, iter=1000, chains=4)\n",
    "    \n",
    "    return fit\n",
    "\n",
    "def calc_qs(thetas, sigmas, z_init, fit):\n",
    "    \"\"\"\n",
    "    Calculate posterior quantiles of prior parameters.\n",
    "    \n",
    "    Args:\n",
    "      thetas, sigmas, z_init: Parameters used to simulate data.\n",
    "      fit: object fitted to data generated with above parameters.\n",
    "      \n",
    "    Returns:\n",
    "      Quantile of prior parameters in posterior distribution of fit.\n",
    "    \"\"\"\n",
    "    posterior = az.from_pystan(\n",
    "    fit, \n",
    "    posterior_predictive='y_rep')\n",
    "\n",
    "    theta_post = posterior.posterior['theta'].stack(sample=('chain', 'draw')).values\n",
    "    with_exact = np.concatenate([np.reshape(thetas, (4, 1)), theta_post], axis=1)\n",
    "    theta_qs = with_exact.argsort(axis=1)[:, 0] / with_exact.shape[1]\n",
    "\n",
    "    sigma_post = posterior.posterior['sigma'].stack(sample=('chain', 'draw')).values\n",
    "    with_exact = np.concatenate([np.reshape(sigmas, (2, 1)), sigma_post], axis=1)\n",
    "    sigma_qs = with_exact.argsort(axis=1)[:, 0] / with_exact.shape[1]\n",
    "\n",
    "    z_init_post = posterior.posterior['z_init'].stack(sample=('chain', 'draw')).values\n",
    "    with_exact = np.concatenate([np.reshape(z_init, (2, 1)), z_init_post], axis=1)\n",
    "    z_init_qs = with_exact.argsort(axis=1)[:, 0] / with_exact.shape[1]\n",
    "\n",
    "\n",
    "    return np.concatenate([theta_qs, sigma_qs, z_init_qs])\n",
    "\n",
    "def val_fit(N=20):\n",
    "    \"\"\"\n",
    "    Entire model validation procedure.\n",
    "    \n",
    "    Args:\n",
    "      N: number of quantiles\n",
    "      \n",
    "    Returns:\n",
    "      numpy array of prior quantiles in posterior distribution.\n",
    "    \"\"\"\n",
    "    quantiles = np.zeros((N, 8))\n",
    "    \n",
    "    i = 0\n",
    "    while i < N:\n",
    "        try:\n",
    "            thetas, sigmas, z_init, sim_data = get_fake_data()\n",
    "\n",
    "            # Extract fake *data*\n",
    "            post = az.from_pystan(sim_data).posterior\n",
    "\n",
    "            fit = fit_model(post)\n",
    "\n",
    "            quantiles[i, :] = calc_qs(thetas, sigmas, z_init, fit)\n",
    "            \n",
    "            i += 1\n",
    "        except:\n",
    "            pass\n",
    "    \n",
    "    return quantiles\n",
    "\n",
    "fitted_qs = val_fit(50)"
   ]
  },
  {
   "cell_type": "markdown",
   "metadata": {},
   "source": [
    "The plot below shows the quantile distribution by parameter. Due to the small size of only 50 quantiles, it's not entirely clear that all quantiles follow a $\\mathcal U(0, 1)$ distribution, but there's certainly no strong contraindication. Thus, we conclude that the model fitting process works reasonably well."
   ]
  },
  {
   "cell_type": "code",
   "execution_count": null,
   "metadata": {},
   "outputs": [],
   "source": [
    "fitted_xr = xr.DataArray(\n",
    "    fitted_qs,\n",
    "    dims=['draw', 'var'],\n",
    "    coords={'var': ['theta_1', 'theta_2', 'theta_3', 'theta_4', 'z_init_1', 'z_init_2', 'sigma_1', 'sigma_2'],\n",
    "            'draw': np.arange(fitted_qs.shape[0])})\n",
    "\n",
    "sns.FacetGrid(fitted_xr.to_pandas().melt(), col='var', col_wrap=4).\\\n",
    "  map(plt.hist, 'value')"
   ]
  },
  {
   "cell_type": "markdown",
   "metadata": {},
   "source": [
    "# Forecasting and backcasting\n",
    "\n",
    "In this section, our goal is to use the equations to forecast the predator- and prey populations 50 years into the future. We can do that by integrating the ODE determining the population averages further into the future.\n",
    "\n",
    "We can most easily extend the `generated quantities` block in the model and add a `generated data` block. In the latter, we \"calculate\" the future time steps `t_pred`. In the former, weuse the Runge-Kutta integrator to make the forecast 50 time steps into the future.\n",
    "\n",
    "The initial conditions for forecasting are the last entries `z[N, :]`. These are the mean values at the last timestep when we had data."
   ]
  },
  {
   "cell_type": "code",
   "execution_count": null,
   "metadata": {},
   "outputs": [],
   "source": [
    "with open('model_forecast.stan') as model_file:\n",
    "    print(model_file.read())"
   ]
  },
  {
   "cell_type": "markdown",
   "metadata": {},
   "source": [
    "We pass the model to Stan and extract the posterior using `arviz`. We concatenate the fitted population values and the predicted population values into a single numpy array `fit_post_concat`of length `data.shape[0] + N_pred = 70`. The reshaping essentially makes sure that we convert an array of shape `(4, 500, 70, 2)` to shape `(2000, 70, 2)`. The former dimensions correspond to `(chain, sample within chain, time, z_dim)`, while the latter contains the concatentated chains."
   ]
  },
  {
   "cell_type": "code",
   "execution_count": null,
   "metadata": {},
   "outputs": [],
   "source": [
    "model = pystan.StanModel(\"model_forecast.stan\")\n",
    "\n",
    "stan_data = {\n",
    "    'N': data.shape[0] - 1,\n",
    "    'ts': np.arange(1, data.shape[0]),\n",
    "    'y_init': [data.Hare.values[0], data.Lynx.values[0]],\n",
    "    'y': np.array(data.loc[1:, ['Hare', 'Lynx']]),\n",
    "    'N_pred': 50\n",
    "     }\n",
    "\n",
    "fit = model.sampling(data=stan_data, iter=1000, chains=4, seed=123)\n",
    "\n",
    "fit_post = az.from_pystan(fit).posterior\n",
    "fit_post_concat = np.concatenate([fit_post.z.values, fit_post.z_pred.values], axis=2).reshape((-1, 70, 2))\n",
    "\n"
   ]
  },
  {
   "cell_type": "markdown",
   "metadata": {},
   "source": [
    "Next, we sample `n_rep=9` samples from the posterior to qualitatively explore the beahviour of the solutions and use them to make phase space plots. The forecast points are colored red, while the fitted values are drawn in black. We see that the predictions look stable and follow very similar trajectories in the future."
   ]
  },
  {
   "cell_type": "code",
   "execution_count": null,
   "metadata": {},
   "outputs": [],
   "source": [
    "n_rep = 9\n",
    "sampled = fit_post_concat[np.random.choice(2000, size=n_rep)]\n",
    "\n",
    "f, ax = plt.subplots(3, 3, figsize=(12, 8))\n",
    "f.add_subplot(111, frameon=False)\n",
    "# hide tick and tick label of the big axes\n",
    "plt.tick_params(labelcolor='none', top='off', bottom='off', left='off', right='off')\n",
    "plt.grid(False)\n",
    "plt.xlabel(\"Lynx\")\n",
    "plt.ylabel(\"Hare\")\n",
    "plt.suptitle(\"Phase space plot\")\n",
    "\n",
    "for i in range(n_rep):\n",
    "    plt.sca(ax.reshape(-1)[i])\n",
    "    plot_phase_space(sampled[i, :20, 0], sampled[i, :20, 1], alpha=0.9)\n",
    "    plot_phase_space(sampled[i, 20:, 0], sampled[i, 20:, 1], alpha=0.5, color='red')\n"
   ]
  },
  {
   "cell_type": "markdown",
   "metadata": {},
   "source": [
    "We make another plot to show the behavior over time, rather than in phase space. We see that the \"observed\" behavior (which is fitted as well) continues in the future."
   ]
  },
  {
   "cell_type": "code",
   "execution_count": null,
   "metadata": {},
   "outputs": [],
   "source": [
    "f, ax = plt.subplots(3, 3, figsize=(12, 8))\n",
    "f.add_subplot(111, frameon=False)\n",
    "# hide tick and tick label of the big axes\n",
    "plt.tick_params(labelcolor='none', top='off', bottom='off', left='off', right='off')\n",
    "plt.grid(False)\n",
    "plt.xlabel(\"Time\")\n",
    "plt.ylabel(\"Population\")\n",
    "plt.suptitle(\"Prediction of population evolution\")\n",
    "\n",
    "for i in range(n_rep):\n",
    "    plt.sca(ax.reshape(-1)[i])\n",
    "    plt.plot(np.arange(20), sampled[i, :20, 0])\n",
    "    plt.plot(np.arange(20, 70), sampled[i, 20:, 0], color='#4c72b0', linestyle=':')\n",
    "    plt.plot(np.arange(20), sampled[i, :20, 1])\n",
    "    plt.plot(np.arange(20, 70), sampled[i, 20:, 1], color='#dd8452', linestyle=':')\n"
   ]
  },
  {
   "cell_type": "markdown",
   "metadata": {},
   "source": [
    "We make a similar \"aggregated\" plot, where we show multiple posterior samples in a single axis. This has the advantage of showing the distributions of both animal populations. Of course, the individual trajectories belonging together can't be identified anymore. The thickened line is the posterior mean prediction."
   ]
  },
  {
   "cell_type": "code",
   "execution_count": null,
   "metadata": {},
   "outputs": [],
   "source": [
    "f, ax = plt.subplots(1, 1, figsize=(12, 8))\n",
    "f.add_subplot(111, frameon=False)\n",
    "# hide tick and tick label of the big axes\n",
    "plt.tick_params(labelcolor='none', top='off', bottom='off', left='off', right='off')\n",
    "plt.grid(False)\n",
    "plt.xlabel(\"Time\")\n",
    "plt.ylabel(\"Animal population\")\n",
    "plt.suptitle(\"Prediction of population evolution\")\n",
    "\n",
    "for i in range(100):\n",
    "    plt.plot(np.arange(20), fit_post_concat[i, :20, 0], color='#4c72b0', alpha=0.2)\n",
    "    plt.plot(np.arange(19, 70), fit_post_concat[i, 19:, 0], color='#4c72b0', linestyle=':', alpha=0.2)\n",
    "    plt.plot(np.arange(20), fit_post_concat[i, :20, 1], color='#dd8452', alpha=0.2)\n",
    "    plt.plot(np.arange(19, 70), fit_post_concat[i, 19:, 1], color='#dd8452', linestyle=':', alpha=0.2)\n",
    "\n",
    "plt.plot(np.arange(70), fit_post_concat.mean(axis=0)[:, 0], label='Hare')\n",
    "plt.plot(np.arange(70), fit_post_concat.mean(axis=0)[:, 1], label='Lynx')\n",
    "plt.legend()"
   ]
  },
  {
   "cell_type": "markdown",
   "metadata": {},
   "source": [
    "## Predicting the past"
   ]
  },
  {
   "cell_type": "markdown",
   "metadata": {},
   "source": [
    "Solving for times in the past can be done very easily in Stan. We simply reverse the vector field in the ODE. For this we write a function `dzdminust` which reversing the two outputs `du_dt` and `dv_dt`."
   ]
  },
  {
   "cell_type": "code",
   "execution_count": null,
   "metadata": {},
   "outputs": [],
   "source": [
    "with open('model_backcast.stan') as model_file:\n",
    "    print(model_file.read())"
   ]
  },
  {
   "cell_type": "code",
   "execution_count": null,
   "metadata": {},
   "outputs": [],
   "source": [
    "model = pystan.StanModel(\"model_backcast.stan\")\n",
    "\n",
    "stan_data = {\n",
    "    'N': data.shape[0] - 1,\n",
    "    'ts': np.arange(1, data.shape[0]),\n",
    "    'y_init': [data.Hare.values[0], data.Lynx.values[0]],\n",
    "    'y': np.array(data.loc[1:, ['Hare', 'Lynx']]),\n",
    "    'N_pred': 50\n",
    "    }\n",
    "\n",
    "fit = model.sampling(data=stan_data, iter=1000, chains=4, seed=123)"
   ]
  },
  {
   "cell_type": "markdown",
   "metadata": {},
   "source": [
    "The Markov chains mixed well:"
   ]
  },
  {
   "cell_type": "code",
   "execution_count": null,
   "metadata": {},
   "outputs": [],
   "source": [
    "az.plot_rank(fit, var_names=['theta', 'z_init', 'sigma'])"
   ]
  },
  {
   "cell_type": "code",
   "execution_count": null,
   "metadata": {},
   "outputs": [],
   "source": [
    "fit_post = az.from_pystan(fit).posterior\n",
    "fit_post_concat = np.concatenate([fit_post.z_pred.values[:, :, ::-1, :], fit_post.z.values], axis=2).reshape((-1, 70, 2))"
   ]
  },
  {
   "cell_type": "markdown",
   "metadata": {},
   "source": [
    "Now, we can plot various quantities again, such as the temporal evoulution of both (where lines belonging to the same posterior draw can't be identified). We just need to make sure that we now also reverse the time dimension."
   ]
  },
  {
   "cell_type": "code",
   "execution_count": null,
   "metadata": {},
   "outputs": [],
   "source": [
    "f, ax = plt.subplots(1, 1, figsize=(12, 8))\n",
    "# hide tick and tick label of the big axes\n",
    "plt.xlabel(\"Time\")\n",
    "plt.ylabel(\"Animal population\")\n",
    "plt.suptitle(\"Pastdiction of population evolution\")\n",
    "\n",
    "for i in range(10):\n",
    "    plt.plot(np.arange(-50, 0), fit_post_concat[i, :50, 0], color='#4c72b0', alpha=0.2)\n",
    "    plt.plot(np.arange(0, 20), fit_post_concat[i, 50:, 0], color='#4c72b0', linestyle=':', alpha=0.2)\n",
    "    plt.plot(np.arange(-50, 0), fit_post_concat[i, :50, 1], color='#dd8452', alpha=0.2)\n",
    "    plt.plot(np.arange(0, 20), fit_post_concat[i, 50:, 1], color='#dd8452', linestyle=':', alpha=0.2)\n",
    "\n",
    "plt.plot(np.arange(-50, 20), fit_post_concat.mean(axis=0)[:, 0], label='Hare')\n",
    "plt.plot(np.arange(-50, 20), fit_post_concat.mean(axis=0)[:, 1], label='Lynx')\n",
    "plt.legend()"
   ]
  },
  {
   "cell_type": "markdown",
   "metadata": {},
   "source": [
    "In the plot above, we see that we can also make stable and reasonable \"backcasts\" of the data."
   ]
  },
  {
   "cell_type": "markdown",
   "metadata": {},
   "source": [
    "# Missing data\n",
    "\n",
    "Our goal in this section is to understand the impact of *missing data* on the model fitting. See the [Stan manual](https://mc-stan.org/docs/2_20/stan-users-guide/missing-data.html) for an overview of how to deal with missing data in Stan.\n",
    "\n",
    "This section is split in two parts:\n",
    "\n",
    "1. Dealing with a single missing point.\n",
    "2. Exploring what happens when more points are missing."
   ]
  },
  {
   "cell_type": "markdown",
   "metadata": {},
   "source": [
    "## A single missing point"
   ]
  },
  {
   "cell_type": "markdown",
   "metadata": {},
   "source": [
    "We start by setting a single value, namely in 1905, of the Lynx population to missing."
   ]
  },
  {
   "cell_type": "code",
   "execution_count": null,
   "metadata": {},
   "outputs": [],
   "source": [
    "data_missing = data.copy()\n",
    "data_missing.loc[lambda x: (x.Year == 1905), \"Lynx\"] = None\n",
    "data_missing"
   ]
  },
  {
   "cell_type": "markdown",
   "metadata": {},
   "source": [
    "Next, we will fit the original Stan model, but we modify the progam so that it can cope with missing data. The [relevant section from the Stan manual is 3.3](https://mc-stan.org/docs/2_20/stan-users-guide/sliced-missing-data.html). We will recode the data in long format, i.e. one row in the data is of the form `(year=tt, species=species, population=yy)`.\n",
    "\n",
    "We make the assumption that the initial conditions for the ODE are non-missing.\n",
    "\n",
    "The number of observations is called `J` and we encode the species `species[j]` associated with observation `j` as an integer. Furthermore, we have the observation time `tt[j]` and the observed population `yy[j]`.\n",
    "\n",
    "To *impute* the missing observation, we specify the number of missing observations `J_mis` and the corresponding species `species_mis` and times `tt_mis`. Note that this step is *not necessary for fitting the model*. \n",
    "\n",
    "The `model` block is similar to the original one. The main change is that we have to look up the species, year and population associated with each observation `j` to plug it into the likelihood.\n",
    "\n",
    "> Remark: For an ODE, once we specify the initial conditions and ODE parameters, we can use observations at arbitrary times to tighten the paramter estimates. In that sense, we don't really have missing values, we just have fewer observations."
   ]
  },
  {
   "cell_type": "code",
   "execution_count": null,
   "metadata": {},
   "outputs": [],
   "source": [
    "with open('missing_model.stan') as model_file:\n",
    "    print(model_file.read())"
   ]
  },
  {
   "cell_type": "code",
   "execution_count": null,
   "metadata": {},
   "outputs": [],
   "source": [
    "model_missing = pystan.StanModel(\"missing_model.stan\")"
   ]
  },
  {
   "cell_type": "markdown",
   "metadata": {},
   "source": [
    "Next, we bring our data frame with missing values into \"long\" or \"melted\" form. In pandas, we can do this with the `melt` function, specifying which column should serve as new id and which columns should be \"put below each other\". Furthermore, we specify the name of the new column.\n",
    "\n",
    "To pass the data on to Stan, we also `factorize` the data, meaning that the species are converted from a string (Lynx and Hare) to respective indices (1 and 2). We also cast the year as an integer variable, called `Year_ind`, starting at 1."
   ]
  },
  {
   "cell_type": "code",
   "execution_count": null,
   "metadata": {},
   "outputs": [],
   "source": [
    "data_long = pd.melt(\n",
    "    data_missing,\n",
    "    id_vars=['Year'],\n",
    "    value_vars=['Lynx', 'Hare'],\n",
    "    var_name='Species'\n",
    ").loc[lambda x: (x.value.notnull()) & (x.Year != 1900)]. \\\n",
    "    reset_index()\n",
    "\n",
    "data_long['Year_ind'] = data_long['Year'] - data['Year'].min()\n",
    "data_long['Species_ind'] = np.where(data_long.Species == \"Hare\", 1, 2)\n",
    "\n",
    "data_long.head()"
   ]
  },
  {
   "cell_type": "markdown",
   "metadata": {},
   "source": [
    "Also, we generate a dataframe with the missing values removed."
   ]
  },
  {
   "cell_type": "code",
   "execution_count": null,
   "metadata": {},
   "outputs": [],
   "source": [
    "data_mis = pd.melt(\n",
    "    data_missing,\n",
    "    id_vars=['Year'],\n",
    "    value_vars=['Lynx', 'Hare'],\n",
    "    var_name='Species'\n",
    ").loc[lambda x: (x.value.isnull()) & (x.Year != 1900)]. \\\n",
    "    reset_index()\n",
    "\n",
    "data_mis['Year_ind'] = data_mis['Year'] - data['Year'].min()\n",
    "data_mis['Species_ind'] = np.where(data_mis.Species == \"Hare\", 1, 2)"
   ]
  },
  {
   "cell_type": "markdown",
   "metadata": {},
   "source": [
    "We can now feed our input to Stan."
   ]
  },
  {
   "cell_type": "code",
   "execution_count": null,
   "metadata": {},
   "outputs": [],
   "source": [
    "stan_data = {\n",
    "    'J': data_long.shape[0],\n",
    "    'species': data_long.Species_ind.values,\n",
    "    'tt': data_long.Year_ind.values,\n",
    "    'yy': data_long.value.values,\n",
    "    'N': data.shape[0] - 1,\n",
    "    'ts': np.arange(1, data.shape[0]),\n",
    "    'y_init': [data.Hare.values[0], data.Lynx.values[0]],\n",
    "    'J_mis': data_mis.shape[0],\n",
    "    'species_mis': data_mis.Species_ind.values,\n",
    "    'tt_mis': data_mis.Year_ind.values\n",
    "    }\n",
    "\n",
    "fit = model_missing.sampling(\n",
    "    data=stan_data, \n",
    "    iter=2000,\n",
    "    chains=4,\n",
    "    seed=123)"
   ]
  },
  {
   "cell_type": "code",
   "execution_count": null,
   "metadata": {},
   "outputs": [],
   "source": [
    "fit_post = az.from_pystan(fit)"
   ]
  },
  {
   "cell_type": "markdown",
   "metadata": {},
   "source": [
    "### Diagnostics"
   ]
  },
  {
   "cell_type": "code",
   "execution_count": null,
   "metadata": {},
   "outputs": [],
   "source": [
    "fit"
   ]
  },
  {
   "cell_type": "markdown",
   "metadata": {},
   "source": [
    "We have no divergences. Also, the Rhat values are all equal to one up to rounding errors. The rank plots, shown here for the missing values `y_mis` and the ODE parameters `theta` look reasonable. Note that while `y_mis` is not a parameter (it is a `generated quantity`), we can still use it to detect bad mixing of the chains, since `y_mis` depends directly on the posterior parameters."
   ]
  },
  {
   "cell_type": "code",
   "execution_count": null,
   "metadata": {},
   "outputs": [],
   "source": [
    "az.plot_rank(fit_post, var_names=['y_mis', 'theta'])"
   ]
  },
  {
   "cell_type": "markdown",
   "metadata": {},
   "source": [
    "### Exploration\n",
    "\n",
    "To see if the imputed values are reasonable, we plot randomly sampled trajectories of the animal populations and add the imputed values on top.\n",
    "\n",
    "*Remarks*:\n",
    "1. The imputed values correspond to the *observed* values, not to the mean population values. Thus, we expect a lot of variation in the imputed values.\n",
    "2. The imputed mean value `z` interpolates smoothly between the data in 1904 and 1906."
   ]
  },
  {
   "cell_type": "code",
   "execution_count": null,
   "metadata": {},
   "outputs": [],
   "source": [
    "for i in range(40):\n",
    "    sampled_chain = np.random.randint(4)\n",
    "    sampled_draw = np.random.randint(1000)\n",
    "    trajectory = fit_post.posterior['z'].loc[{'chain': sampled_chain, 'draw': sampled_draw}]\n",
    "\n",
    "    plt.plot(\n",
    "        data.Year[1:], \n",
    "        trajectory.loc[:, 0], \n",
    "        color=Globals.colors['Hare'], \n",
    "        alpha=.2,\n",
    "        label='Hare' if i == 0 else None)\n",
    "    \n",
    "    plt.plot(\n",
    "        data.Year[1:], \n",
    "        trajectory.loc[:, 1], \n",
    "        color=Globals.colors['Lynx'], \n",
    "        alpha=.2,\n",
    "        label='Lynx' if i == 0 else None)\n",
    "    \n",
    "    plt.scatter(\n",
    "        data_mis.Year, \n",
    "        fit_post.posterior['y_mis'].loc[{'chain': sampled_chain, 'draw': sampled_draw}], \n",
    "        color=Globals.colors['Lynx'],\n",
    "        s=5)\n",
    "    \n",
    "plt.legend()"
   ]
  },
  {
   "cell_type": "markdown",
   "metadata": {},
   "source": [
    "## More missing values\n",
    "\n",
    "We randomly delete points from the `melt`ed dataset and then refit the model. The number of missing data points is $1, 6, 11, \\dots, 36$. \n",
    "\n",
    "We then collect all posterior distributions in a common `xarray` object `all_post`. This `xarray` has an additional dimension, `n_mis` indicating the number of missing observarions. "
   ]
  },
  {
   "cell_type": "code",
   "execution_count": null,
   "metadata": {},
   "outputs": [],
   "source": [
    "# Convert all data to long format\n",
    "data_long = pd.melt(\n",
    "    data,\n",
    "    id_vars=['Year'],\n",
    "    value_vars=['Lynx', 'Hare'],\n",
    "    var_name='Species'\n",
    ").loc[lambda x: x.Year != 1900]. \\\n",
    "    reset_index()\n",
    "\n",
    "# This is the sequence of values that will be encoded as missing\n",
    "np.random.seed(0)\n",
    "missing_seq = np.random.permutation(data_long.shape[0] - 1)\n",
    "\n",
    "fits = []\n",
    "\n",
    "\n",
    "\n",
    "for i in range(1, data_long.shape[0] - 1, 5):\n",
    "    data_with_nan = data_long.copy()\n",
    "    data_with_nan.loc[missing_seq[:i], 'value'] = None\n",
    "    \n",
    "    data_missing = data_with_nan. \\\n",
    "        copy(). \\\n",
    "        loc[lambda x: x.value.isnull()]. \\\n",
    "        reset_index()\n",
    "    data_missing['Year_ind'] = data_missing['Year'] - data['Year'].min()\n",
    "    data_missing['Species_ind'] = np.where(data_missing.Species == \"Hare\", 1, 2)\n",
    "    \n",
    "    data_to_fit = data_with_nan. \\\n",
    "        copy(). \\\n",
    "        loc[lambda x: (x.value.notnull())]. \\\n",
    "        reset_index()\n",
    "    \n",
    "    data_to_fit['Year_ind'] = data_to_fit['Year'] - data['Year'].min()\n",
    "    data_to_fit['Species_ind'] = np.where(data_to_fit.Species == \"Hare\", 1, 2)\n",
    "\n",
    "    stan_data = {\n",
    "        'J': data_to_fit.shape[0],\n",
    "        'species': data_to_fit.Species_ind.values,\n",
    "        'tt': data_to_fit.Year_ind.values,\n",
    "        'yy': data_to_fit.value.values,\n",
    "        'N': data.shape[0] - 1,\n",
    "        'ts': np.arange(1, data.shape[0]),\n",
    "        'y_init': [data.Hare.values[0], data.Lynx.values[0]],\n",
    "        'J_mis': data_missing.shape[0],\n",
    "        'species_mis': data_missing.Species_ind.values,\n",
    "        'tt_mis': data_missing.Year_ind.values\n",
    "    }\n",
    "\n",
    "    fit = model_missing.sampling(\n",
    "        data=stan_data, \n",
    "        iter=2000,\n",
    "        chains=4,\n",
    "        seed=123)\n",
    "    \n",
    "    fits.append(fit)\n",
    "    \n",
    "all_post = xr.concat(\n",
    "    [az.from_pystan(x).posterior for x in fits[0:]], \n",
    "    pd.Index(range(1, data_long.shape[0] - 1, 5), name='n_miss'))\n",
    "\n",
    "all_post.coords['theta_dim_0'].values = [r'$\\alpha$', r'$\\beta$', r'$\\gamma$', r'$\\delta$']"
   ]
  },
  {
   "cell_type": "markdown",
   "metadata": {},
   "source": [
    "The plots below show the standard deviation of the marginal posterior distribution for selected parameters. The standard deviation increases with the number of missing points, as expected."
   ]
  },
  {
   "cell_type": "code",
   "execution_count": null,
   "metadata": {},
   "outputs": [],
   "source": [
    "all_post['theta'].std(['chain', 'draw']).plot(col='theta_dim_0')"
   ]
  },
  {
   "cell_type": "code",
   "execution_count": null,
   "metadata": {},
   "outputs": [],
   "source": [
    "all_post['z_init'].std(['chain', 'draw']).plot(col='z_init_dim_0')"
   ]
  },
  {
   "cell_type": "markdown",
   "metadata": {},
   "source": [
    "We can also look at the full distribution of the posterior parameters, rather than only the standard deviation. We see that the estimates stay relatively stable, even for a large number of missing values. Once we reach 36 missing values, however, the model becomes very uncertain about the posterior."
   ]
  },
  {
   "cell_type": "code",
   "execution_count": null,
   "metadata": {},
   "outputs": [],
   "source": [
    "all_post['theta']. \\\n",
    "    to_dataframe(). \\\n",
    "    reset_index(). \\\n",
    "    pipe(sns.FacetGrid, col='theta_dim_0', sharey=False). \\\n",
    "    map(sns.boxenplot, 'n_miss', 'theta')"
   ]
  },
  {
   "cell_type": "code",
   "execution_count": null,
   "metadata": {},
   "outputs": [],
   "source": [
    "all_post['z_init']. \\\n",
    "    to_dataframe(). \\\n",
    "    reset_index(). \\\n",
    "    pipe(sns.FacetGrid, col='z_init_dim_0', sharey=False). \\\n",
    "    map(sns.boxenplot, 'n_miss', 'z_init')"
   ]
  },
  {
   "cell_type": "markdown",
   "metadata": {},
   "source": [
    "Finally, we show the predicted mean trajectories as a functino of the number of missing data points. We make the following two observations:\n",
    "\n",
    "1. The uncertainty of the predicted trajectory increases with the number of missing data points.\n",
    "2. The estimates of the mean population stays relatively stable and senisble until we fit with 36 missing points. Note that in this case we have more parameters than data!"
   ]
  },
  {
   "cell_type": "code",
   "execution_count": null,
   "metadata": {},
   "outputs": [],
   "source": [
    "all_post['z']. \\\n",
    "    to_dataframe(). \\\n",
    "    reset_index(). \\\n",
    "    loc[lambda x: x.draw < 100]. \\\n",
    "    pipe(sns.FacetGrid, col='n_miss', col_wrap=3). \\\n",
    "    map(sns.lineplot, 'z_dim_0', 'z', 'z_dim_1', ci='sd')"
   ]
  },
  {
   "cell_type": "markdown",
   "metadata": {},
   "source": [
    "# Error model\n",
    "\n",
    "We replace the error model from a *log-normal* with a *normal* model. This means that we sample\n",
    "\n",
    "$$\n",
    "y_{n, k} = z_{n, k} + \\epsilon_{n, k} \\\\\n",
    "\\epsilon_{n, k} \\sim \\text{Normal}(0, \\sigma) \\:.\n",
    "$$\n",
    "\n",
    "\n",
    "*Remarks*:\n",
    "+ The first graph in this notebook shows almost an order of magnitude difference in Lynx population between the its maximum and minimum. If the deviation of the observed population from the modelled population is somehow proportional to the population, then we have a big risk of giving negative populations a non-zero likelihood.\n",
    "+ Intuitively, unexpected events (say, a drought), should reduce a certain proportion of the population, rather than a fixed amount.\n",
    "\n",
    "Changing the model in Stan is very straightforward: we simply change the likelihood term from `lognormal` to `normal` and replace the `lognormal_rng` with a `normal_rng` in the `generated quantities` block."
   ]
  },
  {
   "cell_type": "code",
   "execution_count": null,
   "metadata": {},
   "outputs": [],
   "source": [
    "model = pystan.StanModel(\"model_normal.stan\")\n",
    "\n",
    "stan_data = {'N': data.shape[0] - 1,\n",
    "             'ts': np.arange(1, data.shape[0]),\n",
    "             'y_init': [data.Hare.values[0], data.Lynx.values[0]],\n",
    "             'y': np.array(data.loc[1:, ['Hare', 'Lynx']])\n",
    "             }\n",
    "\n",
    "fit = model.sampling(data=stan_data, iter=2000, chains=4, seed=123)"
   ]
  },
  {
   "cell_type": "code",
   "execution_count": null,
   "metadata": {},
   "outputs": [],
   "source": [
    "fit"
   ]
  },
  {
   "cell_type": "markdown",
   "metadata": {},
   "source": [
    "The diagnostics look good: the Rhat values are close to one, the rank plots indicate good mixing and we see no divergences."
   ]
  },
  {
   "cell_type": "code",
   "execution_count": null,
   "metadata": {},
   "outputs": [],
   "source": [
    "az.plot_rank(fit, var_names=['theta', 'sigma'])"
   ]
  },
  {
   "cell_type": "markdown",
   "metadata": {},
   "source": [
    "Let's now investigate the predictions of the mean, i.e. the `z` variable. We pick 100 posterior draws at random and plot the associated mean predictions."
   ]
  },
  {
   "cell_type": "code",
   "execution_count": null,
   "metadata": {},
   "outputs": [],
   "source": [
    "z_ = az.from_pystan(fit).posterior['z'].stack(i=('chain', 'draw'))\n",
    "\n",
    "for i in range(100):\n",
    "    plt.plot(np.arange(20), z_[:, 0, i], \n",
    "             color=Globals.colors['Hare'], \n",
    "             alpha=0.2, \n",
    "             label='Hare' if i == 0 else None)\n",
    "    \n",
    "    plt.plot(np.arange(20), z_[:, 1, i], \n",
    "             color=Globals.colors['Lynx'], \n",
    "             alpha=0.2,\n",
    "             label='Lynx' if i == 0 else None)\n",
    "    \n",
    "plt.legend()"
   ]
  },
  {
   "cell_type": "markdown",
   "metadata": {},
   "source": [
    "This does not look too unreasonable. All the means are positive and, at least for the Lynx population the fits are relatively tight. This does, however, not mean that we've ended up with a good model. We investigate the posterior data, i.e. the `y` variables. To get a feel for them, we simply randomly plot some."
   ]
  },
  {
   "cell_type": "code",
   "execution_count": null,
   "metadata": {},
   "outputs": [],
   "source": [
    "y_ = az.from_pystan(fit).posterior['y_rep']. \\\n",
    "    stack(i=('chain', 'draw')). \\\n",
    "    reset_index('i'). \\\n",
    "    assign_coords(y_rep_dim_1=['Hare', 'Lynx'])\n",
    "\n",
    "fig, ax = plt.subplots(figsize=(20, 10))\n",
    "\n",
    "z_.mean(dim='i').sel(z_dim_1=0).plot.line(color=Globals.colors['Hare'], label='Hare', linewidth=4.0)\n",
    "z_.mean(dim='i').sel(z_dim_1=1).plot.line(color=Globals.colors['Lynx'], label='Lynx', linewidth=4.0)\n",
    "\n",
    "for i in range(200):\n",
    "    ind = np.random.randint(4000)\n",
    "    posterior_sample = y_.sel(i=ind)\n",
    "    posterior_sample.sel(y_rep_dim_1='Hare').plot(color='#4c72b0', alpha=0.2, ax=ax)\n",
    "    posterior_sample.sel(y_rep_dim_1='Lynx').plot(color='#dd8452', alpha=0.2, ax=ax)\n",
    "    \n",
    "ax.legend()\n",
    "ax.set_title(\"\")"
   ]
  },
  {
   "cell_type": "markdown",
   "metadata": {},
   "source": [
    "We see that for the Lynx population, we end up with many negative posterior predictions. This shows that the model violates positivity of the observations, a key requirement."
   ]
  },
  {
   "cell_type": "markdown",
   "metadata": {},
   "source": [
    "# Sensitivity analysis and prior choice"
   ]
  },
  {
   "cell_type": "markdown",
   "metadata": {},
   "source": [
    "## Sensitivity of posterior\n",
    "\n",
    "The first question we want to answer is: how much do the posterior inferences depend on the choice of the prior. Recall that we have specified the following priors:\n",
    "\n",
    "$$\n",
    "\\alpha, \\gamma \\sim \\text{Normal}(1, 0.5) \\\\\n",
    "\\beta, \\delta \\sim \\text{Normal}(0.05, 0.05) \\\\\n",
    "\\sigma \\sim \\text{LogNormal}(-1, 1) \\\\\n",
    "z_{init} \\sim \\text{LogNormal}(\\log(10), 1)\n",
    "$$\n",
    "\n",
    "To answer this question, we'll vary the various prior parameters and compare the outcomes."
   ]
  },
  {
   "cell_type": "code",
   "execution_count": null,
   "metadata": {},
   "outputs": [],
   "source": [
    "model = pystan.StanModel(\"model_prior_param.stan\")"
   ]
  },
  {
   "cell_type": "code",
   "execution_count": null,
   "metadata": {},
   "outputs": [],
   "source": [
    "stan_data = {'N': data.shape[0] - 1,\n",
    "             'ts': np.arange(1, data.shape[0]),\n",
    "             'y_init': [data.Hare.values[0], data.Lynx.values[0]],\n",
    "             'y': np.array(data.loc[1:, ['Hare', 'Lynx']]),\n",
    "             'sigma_a_b': 1,\n",
    "             'sigma_c_d': 0.10,\n",
    "             'sigma_sigma': 5\n",
    "             }\n",
    "\n",
    "fit = model.sampling(data=stan_data, iter=1000, chains=4, seed=123)"
   ]
  },
  {
   "cell_type": "code",
   "execution_count": null,
   "metadata": {},
   "outputs": [],
   "source": [
    "fit"
   ]
  },
  {
   "cell_type": "markdown",
   "metadata": {},
   "source": [
    "# Model misspecification\n",
    "\n",
    "We now explore what happens if we misspecify the model. We'll misspecify the model by swapping the Hare and Lynx data, i.e. we make the Hare the predator and the Lynx the prey. Incidentally, the author solved this exercise before solving any other exercises.\n",
    "\n",
    "We can use the model from the original case study, `model.stan`, for fitting. We only have to change the input data instead of changing the model."
   ]
  },
  {
   "cell_type": "code",
   "execution_count": null,
   "metadata": {},
   "outputs": [],
   "source": [
    "model = pystan.StanModel(\"model.stan\")\n",
    "\n",
    "# Change the input data order\n",
    "stan_data = {\n",
    "    'N': data.shape[0] - 1,\n",
    "    'ts': np.arange(1, data.shape[0]),\n",
    "    'y_init': [data.Lynx.values[0], data.Hare.values[0]],\n",
    "    'y': np.array(data.loc[1:, ['Lynx', 'Hare']])\n",
    "    }\n",
    "\n",
    "fit = model.sampling(data=stan_data, iter=2000, chains=4, seed=123)"
   ]
  },
  {
   "cell_type": "markdown",
   "metadata": {},
   "source": [
    "The warning alone don't necessarily mean that the fitting process failed. The `Rhat` values look okay, indicating that the chains have properly mixed. We do, however, see some divergences."
   ]
  },
  {
   "cell_type": "code",
   "execution_count": null,
   "metadata": {},
   "outputs": [],
   "source": [
    "fit"
   ]
  },
  {
   "cell_type": "markdown",
   "metadata": {},
   "source": [
    "Let's try to find out where the divergences occur."
   ]
  },
  {
   "cell_type": "code",
   "execution_count": null,
   "metadata": {},
   "outputs": [],
   "source": [
    "posterior = az.from_pystan(\n",
    "    fit, \n",
    "    posterior_predictive='y_rep',\n",
    "    coords={'theta_dim_0': [r'$\\alpha$', r'$\\beta$', r'$\\gamma$', r'$\\delta$']})"
   ]
  },
  {
   "cell_type": "code",
   "execution_count": null,
   "metadata": {},
   "outputs": [],
   "source": [
    "az.plot_pair(posterior, var_names=['theta'], divergences=True)"
   ]
  },
  {
   "cell_type": "markdown",
   "metadata": {},
   "source": [
    "From the plot above, it looks like the sampler tries to explore the tails of the distribution even more, pushing $\\alpha$ further up and $\\delta$ and $\\gamma$ further down."
   ]
  },
  {
   "cell_type": "code",
   "execution_count": null,
   "metadata": {},
   "outputs": [],
   "source": [
    "# Change the input data order\n",
    "stan_data = {\n",
    "    'N': data.shape[0] - 1,\n",
    "    'ts': np.arange(1, data.shape[0]),\n",
    "    'y_init': [data.Lynx.values[0], data.Hare.values[0]],\n",
    "    'y': np.array(data.loc[1:, ['Lynx', 'Hare']])\n",
    "    }\n",
    "\n",
    "fit_adapt = model.sampling(data=stan_data, iter=2000, chains=4, seed=123, control=dict(adapt_delta=0.95))"
   ]
  },
  {
   "cell_type": "code",
   "execution_count": null,
   "metadata": {},
   "outputs": [],
   "source": [
    "posterior = az.from_pystan(\n",
    "    fit_adapt, \n",
    "    posterior_predictive='y_rep',\n",
    "    coords={'theta_dim_0': [r'$\\alpha$', r'$\\beta$', r'$\\gamma$', r'$\\delta$']})\n",
    "\n",
    "az.plot_pair(posterior, var_names=['theta'], divergences=True)"
   ]
  },
  {
   "cell_type": "markdown",
   "metadata": {},
   "source": [
    "No divergences anymore. We do, however, see that the chains have not mixed properly (as can also easily be seen by looking at the `Rhat` statistics)."
   ]
  },
  {
   "cell_type": "markdown",
   "metadata": {},
   "source": [
    "Let's look at the posterior time evolution. The thick lines are the data, the thin, transparent lines are posterior predictions. We can clearly see the two components in the posterior distribution, corresponding to the two bundles of lines per color. For the first component, the one with the majority of posterior mass, we see that Lynx peaks *before* Hare. For the smaller component, however, the Hare peaks before the Lynx."
   ]
  },
  {
   "cell_type": "code",
   "execution_count": null,
   "metadata": {},
   "outputs": [],
   "source": [
    "z_ = az.from_pystan(fit_adapt).posterior['z'].stack(i=('chain', 'draw'))\n",
    "\n",
    "data.plot(x='Year', lw=3)\n",
    "\n",
    "for i in range(300):\n",
    "    ind = np.random.randint(2000)\n",
    "    plt.plot(1901 + np.arange(20), z_[:, 0, ind], color='#4c72b0', alpha=0.1)\n",
    "    plt.plot(1901 + np.arange(20), z_[:, 1, ind], color='#dd8452', alpha=0.1)"
   ]
  },
  {
   "cell_type": "markdown",
   "metadata": {},
   "source": [
    "# Cross-validation and predictive calibration"
   ]
  },
  {
   "cell_type": "markdown",
   "metadata": {},
   "source": [
    "Our goal here is to study the *future-predictive accuracy* of our model. This means that we are interested in the model performance when we only use data up to a certain point in time to fit the model and evaluate it on the future, unused, data.\n",
    "\n",
    "If our data were iid, tihs would best achieved by *Leave-one-out cross-validation (loo-cv)*. When dealing with time series data (i.e. data which are, in partiuclar, not iid), we can take the idea of [approximate leave future-out cross-validation](https://arxiv.org/abs/1902.06281). This is a variation of the [*leave-one-out* cross-validation](https://arxiv.org/abs/1507.02646) approach to model evaluation."
   ]
  },
  {
   "cell_type": "markdown",
   "metadata": {},
   "source": [
    "## Naive LOO-CV\n",
    "\n",
    "We start with *naive loo-cv*, which does not take into account the temporal dependency. We expect that this approach leads to an *optimistic estimate* of the ELPD, because we essentially reduce the forecasting problem to an interpolation problem.\n",
    "\n",
    "To apply loo-cv, we call `arviz.loo` on to the posterior data, specifying the 'log-likelihood'.\n",
    "\n",
    "We also specify the parameter `L` below. It is the minimum number of data points that we'll use to fit the model later. For the moment, we use this parameter to specify the data points used for model evaluation: we only evaluate from data point `L` onwards."
   ]
  },
  {
   "cell_type": "code",
   "execution_count": null,
   "metadata": {},
   "outputs": [],
   "source": [
    "L = 10 # Minimum number of points used for model fitting"
   ]
  },
  {
   "cell_type": "code",
   "execution_count": null,
   "metadata": {},
   "outputs": [],
   "source": [
    "model = pystan.StanModel(\"model.stan\")\n",
    "\n",
    "fit = model.sampling(\n",
    "    data=prep_stan_data(data), \n",
    "    iter=4000,\n",
    "    chains=4,\n",
    "    seed=123)\n",
    "\n",
    "idata = az.from_pystan(fit, log_likelihood=\"log_likelihood\")\n",
    "loo = az.loo(idata, pointwise=True, scale='log')\n",
    "\n",
    "# The first L point will never be used to evaluate the model fit\n",
    "naive_loo = loo.loo_i.reshape(-1, 2)[L:, :].sum()\n",
    "naive_loo"
   ]
  },
  {
   "cell_type": "markdown",
   "metadata": {},
   "source": [
    "We adjusted the sampling to ensure that the Pareto k parameters are below 0.7. More precisely, we increased the number of iterations to 4000. This step means that we have 2000 iterations to tune the MC sampler.\n",
    "\n",
    "Let's plot the diagnostics for the Pareto-k values. All of them should be below 0.7, and ideally below 0.5. We see that, by and large, these values are ok."
   ]
  },
  {
   "cell_type": "code",
   "execution_count": null,
   "metadata": {},
   "outputs": [],
   "source": [
    "plt.plot(loo.pareto_k.reshape(-1, 2)[:, 0], c=Globals.colors['Hare'], label='Hare')\n",
    "plt.plot(loo.pareto_k.reshape(-1, 2)[:, 1], c=Globals.colors['Lynx'], label='Lynx')\n",
    "plt.axhline(0.5, c='r', linestyle='--')\n",
    "plt.axhline(0.7, c='r', linestyle='-')\n",
    "plt.xlabel('Observation')\n",
    "plt.ylabel('Pareto k')\n",
    "plt.legend(loc='upper right')\n"
   ]
  },
  {
   "cell_type": "markdown",
   "metadata": {},
   "source": [
    "The `loo` value above is too optimistic, as we will subsequently show."
   ]
  },
  {
   "cell_type": "markdown",
   "metadata": {},
   "source": [
    "## Exact 1-SAP LOO CV"
   ]
  },
  {
   "cell_type": "markdown",
   "metadata": {},
   "source": [
    "Next, we'll do exact one-step-ahead loo-cv. For this, we take the first $n > L$ points to fit the model and then use point $n+1$ to calculate ELPD, $\\forall n=L, \\dots, N-1$."
   ]
  },
  {
   "cell_type": "code",
   "execution_count": null,
   "metadata": {},
   "outputs": [],
   "source": [
    "model_loo = pystan.StanModel(\"model_loo_exact.stan\")"
   ]
  },
  {
   "cell_type": "code",
   "execution_count": null,
   "metadata": {},
   "outputs": [],
   "source": [
    "def log_mean_exp(x, **kwargs):\n",
    "    \"\"\"\n",
    "    Numerically stable version to calculate the logarithm of the average \n",
    "    likelihood.\n",
    "    \n",
    "    Args:\n",
    "      x: numpy array\n",
    "    \"\"\"\n",
    "    return scipy.special.logsumexp(x, **kwargs) - np.log(x.shape[1])\n",
    "\n",
    "def calc_loo_exact(fit):\n",
    "    \"\"\"Calculate exact loo-elpd.\n",
    "    \n",
    "    Args:\n",
    "      fit: fitted model\n",
    "      \n",
    "    Returns:\n",
    "      LOO elpd\n",
    "    \"\"\"\n",
    "    ll = az.from_pystan(fit, log_likelihood=\"log_likelihood\").sample_stats['log_likelihood']\n",
    "    ll = ll.stack(sample=('chain', 'draw')).squeeze('log_likelihood_dim_0')\n",
    "    return log_mean_exp(ll, axis=1)\n",
    "\n",
    "def sum_log_ratios(ll, ids=None):\n",
    "    \"\"\"\n",
    "    Calculate raw importance weights.\n",
    "    \n",
    "    Args:\n",
    "      ll: numpy array of log-likelihoods\n",
    "    \"\"\"\n",
    "    if ids is not None:\n",
    "        return - ll.sel(log_likelihood_dim_0=ids).sum(dim=['log_likelihood_dim_0', 'log_likelihood_dim_1'])\n",
    "    \n",
    "    return - ll.sum(dim=['log_likelihood_dim_0', 'log_likelihood_dim_1'])"
   ]
  },
  {
   "cell_type": "code",
   "execution_count": null,
   "metadata": {},
   "outputs": [],
   "source": [
    "# Initilize empty array that will hold the elpd values\n",
    "loos = np.zeros((20, 2))\n",
    "L = 10\n",
    "\n",
    "def fit_model(n):\n",
    "    stan_data = {\n",
    "        'N': n-1,\n",
    "        'ts': np.arange(1, n+1),\n",
    "        'y_init': [data.Hare.values[0], data.Lynx.values[0]],\n",
    "        'y': np.array(data.loc[1:n, ['Hare', 'Lynx']]),\n",
    "        'N_cv': 1,\n",
    "        }\n",
    "\n",
    "    fit = model_loo.sampling(data=stan_data, iter=2000, chains=4, seed=123, control={'adapt_delta': 0.95})\n",
    "    \n",
    "    return fit\n",
    "\n",
    "for i in range(data.shape[0] - 1, L, -1):\n",
    "    fit = fit_model(i)\n",
    "    loos[i-1, :] = calc_loo_exact(fit)\n",
    "    print(loos[i-1, :])"
   ]
  },
  {
   "cell_type": "code",
   "execution_count": null,
   "metadata": {},
   "outputs": [],
   "source": [
    "# Exact loo\n",
    "loos.sum()"
   ]
  },
  {
   "cell_type": "markdown",
   "metadata": {},
   "source": [
    "We see that the exact LOO ELPD is lower, as expected."
   ]
  },
  {
   "cell_type": "markdown",
   "metadata": {},
   "source": [
    "## Approximate 1-SAP LOO CV\n",
    "\n"
   ]
  },
  {
   "cell_type": "markdown",
   "metadata": {},
   "source": [
    "Finally, we evaluate one-step-ahead-leave-one-out-cross-validation using Pareto smoothed importance sampling (PSIS).\n",
    "\n",
    "The idea here is to refit the model only when needed, that is when the LOO-approximation to calculate the elpd becomes too inaccurate (for more details, see the paper mentioned in the beginning of the section). In this case, we refit the model based on fewer data points. More comments explaining the method can be found in the code."
   ]
  },
  {
   "cell_type": "code",
   "execution_count": null,
   "metadata": {},
   "outputs": [],
   "source": [
    "def fit_model_approx(n):\n",
    "\n",
    "    stan_data = {'N': n+1 ,\n",
    "                 'ts': np.arange(1, n+3),\n",
    "                 'y_init': [data.Hare.values[0], data.Lynx.values[0]],\n",
    "                 'y': np.array(data.loc[1:(n+2), ['Hare', 'Lynx']]),\n",
    "                 'N_cv': 1,\n",
    "                 }\n",
    "\n",
    "    fit = model_loo.sampling(data=stan_data, iter=2000, chains=4, seed=123, control={'adapt_delta': 0.95})\n",
    "    \n",
    "    return fit"
   ]
  },
  {
   "cell_type": "code",
   "execution_count": null,
   "metadata": {},
   "outputs": [],
   "source": [
    "# Start with the original model based on all data points.\n",
    "stan_data = {\n",
    "    'N': data.shape[0] - 1,\n",
    "    'ts': np.arange(1, data.shape[0]),\n",
    "    'y_init': [data.Hare.values[0], data.Lynx.values[0]],\n",
    "    'y': np.array(data.loc[1:, ['Hare', 'Lynx']])\n",
    "    }\n",
    "\n",
    "fit = model.sampling(\n",
    "    data=stan_data,\n",
    "    iter=2000, \n",
    "    chains=4,\n",
    "    seed=123,\n",
    "    control={'adapt_delta': 0.95})\n",
    "\n",
    "# Further setup\n",
    "N = data.shape[0]\n",
    "approx_elpds_1sap = np.zeros(N)\n",
    "idata = az.from_pystan(fit, log_likelihood=\"log_likelihood\")\n",
    "log_lik = idata.sample_stats['log_likelihood'].stack(sample=('draw', 'chain'))\n",
    "\n",
    "loos_approx = [] # List of approximate LOO scores\n",
    "n_refits = 0 # Number of times we refit the model\n",
    "\n",
    "# Loop over data points, but \"backwards\"\n",
    "for i in range(N-2, L-1, -1):\n",
    "    # Try to use current model to do LOO-CV. Take the log-likelihood from the\n",
    "    # current number of data points onwards and sum over data points (not\n",
    "    # posterior draws).\n",
    "    log_ratios = log_lik.\\\n",
    "      sel(log_likelihood_dim_0=slice(i, None)).\\\n",
    "      sum(dim=('log_likelihood_dim_0', 'log_likelihood_dim_1'))\n",
    "    \n",
    "    psis_part, k = az.psislw(-log_ratios.values.reshape(-1, 1))\n",
    "    \n",
    "    if k > 0.7:\n",
    "        # If the Pareto k value is too bad, we refit\n",
    "        fit_ = fit_model_approx(i-1)\n",
    "        contrib = calc_loo_exact(fit_).sum()\n",
    "        n_refits += 1\n",
    "        \n",
    "        # If we refit, we can use the *exact* refit to calculdate ELPD\n",
    "        idata = az.from_pystan(fit_, log_likelihood=\"log_likelihood\")\n",
    "        log_lik = idata.sample_stats['log_likelihood'].stack(sample=('draw', 'chain'))\n",
    "    \n",
    "    else:\n",
    "        # If the Pareto k is ok, use it.\n",
    "        contrib = scipy.special.logsumexp(\n",
    "            psis_part + log_lik.sel(log_likelihood_dim_0=i).\\\n",
    "                                    values.transpose(), axis=0).sum()\n",
    "    print(contrib)\n",
    "    loos_approx.append(contrib)\n",
    "\n",
    "loos_approx.reverse()"
   ]
  },
  {
   "cell_type": "markdown",
   "metadata": {},
   "source": [
    "We had to do 7 refits, i.e. we did not save a lot of compute time in using approximate ELPD.\n",
    "\n",
    "Next, let's plot the Exact LOO-ELPD values against the approximate LOO-ELPD values. We see that they fit very well, even the three cases, where we could use importance sampling to estimate ELPD-LOO."
   ]
  },
  {
   "cell_type": "code",
   "execution_count": null,
   "metadata": {},
   "outputs": [],
   "source": [
    "plot_data = pd.DataFrame({\n",
    "    'Exact LOO-ELPD': loos.sum(axis=1)[L:],\n",
    "    'Approximate LOO-ELPD': loos_approx\n",
    "})\n",
    "\n",
    "sns.lmplot('Exact LOO-ELPD', 'Approximate LOO-ELPD', data=plot_data)"
   ]
  },
  {
   "cell_type": "markdown",
   "metadata": {},
   "source": [
    "Finally, let's compare the three approaches."
   ]
  },
  {
   "cell_type": "code",
   "execution_count": null,
   "metadata": {},
   "outputs": [],
   "source": [
    "all_loos = {\n",
    "    'naive': round(naive_loo, 2),\n",
    "    'exact': np.round(loos.sum(), 2),\n",
    "    'approx': np.round(sum(loos_approx), 2)\n",
    "}\n",
    "\n",
    "all_loos"
   ]
  },
  {
   "cell_type": "markdown",
   "metadata": {},
   "source": [
    "We see that the naive ELPD is larger than the approach taking into account the temporal dependency. Exact and approximate future-loo-cv are very similar."
   ]
  },
  {
   "cell_type": "code",
   "execution_count": null,
   "metadata": {},
   "outputs": [],
   "source": []
  }
 ],
 "metadata": {
  "kernelspec": {
   "display_name": "Python 3",
   "language": "python",
   "name": "python3"
  },
  "language_info": {
   "codemirror_mode": {
    "name": "ipython",
    "version": 3
   },
   "file_extension": ".py",
   "mimetype": "text/x-python",
   "name": "python",
   "nbconvert_exporter": "python",
   "pygments_lexer": "ipython3",
   "version": "3.7.3"
  }
 },
 "nbformat": 4,
 "nbformat_minor": 4
}
